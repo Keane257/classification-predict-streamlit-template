{
  "nbformat": 4,
  "nbformat_minor": 0,
  "metadata": {
    "kernelspec": {
      "language": "python",
      "display_name": "Python 3",
      "name": "python3"
    },
    "language_info": {
      "pygments_lexer": "ipython3",
      "nbconvert_exporter": "python",
      "version": "3.6.4",
      "file_extension": ".py",
      "codemirror_mode": {
        "name": "ipython",
        "version": 3
      },
      "name": "python",
      "mimetype": "text/x-python"
    },
    "colab": {
      "name": "climate_change_monica.ipynb",
      "provenance": [],
      "include_colab_link": true
    }
  },
  "cells": [
    {
      "cell_type": "markdown",
      "metadata": {
        "id": "view-in-github",
        "colab_type": "text"
      },
      "source": [
        "<a href=\"https://colab.research.google.com/github/monicafar147/classification-predict-streamlit-template/blob/Template/climate_change_monica.ipynb\" target=\"_parent\"><img src=\"https://colab.research.google.com/assets/colab-badge.svg\" alt=\"Open In Colab\"/></a>"
      ]
    },
    {
      "cell_type": "markdown",
      "metadata": {
        "id": "PagK9onp-Esj",
        "colab_type": "text"
      },
      "source": [
        "# Imports"
      ]
    },
    {
      "cell_type": "code",
      "metadata": {
        "_uuid": "d629ff2d2480ee46fbb7e2d37f6b5fab8052498a",
        "_cell_guid": "79c7e3d0-c299-4dcb-8224-4455121ee9b0",
        "trusted": true,
        "scrolled": true,
        "id": "obQf27Jp-Esk",
        "colab_type": "code",
        "colab": {
          "base_uri": "https://localhost:8080/",
          "height": 50
        },
        "outputId": "8068e0d9-cdf6-40cb-bf1a-4c7a2d71f131"
      },
      "source": [
        "import numpy as np \n",
        "import pandas as pd \n",
        "import matplotlib.pyplot as plt\n",
        "import seaborn as sns\n",
        "plt.style.use('seaborn-deep')\n",
        "\n",
        "#text preprocessing\n",
        "import re\n",
        "import nltk\n",
        "from nltk.corpus import stopwords"
      ],
      "execution_count": 1,
      "outputs": [
        {
          "output_type": "stream",
          "text": [
            "/usr/local/lib/python3.6/dist-packages/statsmodels/tools/_testing.py:19: FutureWarning: pandas.util.testing is deprecated. Use the functions in the public API at pandas.testing instead.\n",
            "  import pandas.util.testing as tm\n"
          ],
          "name": "stderr"
        }
      ]
    },
    {
      "cell_type": "markdown",
      "metadata": {
        "id": "-YEWyOVv-Eso",
        "colab_type": "text"
      },
      "source": [
        "## Importing the data"
      ]
    },
    {
      "cell_type": "code",
      "metadata": {
        "trusted": true,
        "scrolled": true,
        "id": "xC98H3k1-Eso",
        "colab_type": "code",
        "colab": {}
      },
      "source": [
        "train = pd.read_csv(\"https://raw.githubusercontent.com/monicafar147/classification-predict-streamlit-template/master/climate-change-belief-analysis/train.csv\")\n",
        "test = pd.read_csv(\"https://raw.githubusercontent.com/monicafar147/classification-predict-streamlit-template/master/climate-change-belief-analysis/test.csv\")"
      ],
      "execution_count": 0,
      "outputs": []
    },
    {
      "cell_type": "code",
      "metadata": {
        "trusted": true,
        "id": "yaZmpImk-Esr",
        "colab_type": "code",
        "colab": {
          "base_uri": "https://localhost:8080/",
          "height": 191
        },
        "outputId": "6e326c93-ee1f-44af-8794-f7fbe24c0492"
      },
      "source": [
        "train.head()"
      ],
      "execution_count": 3,
      "outputs": [
        {
          "output_type": "execute_result",
          "data": {
            "text/html": [
              "<div>\n",
              "<style scoped>\n",
              "    .dataframe tbody tr th:only-of-type {\n",
              "        vertical-align: middle;\n",
              "    }\n",
              "\n",
              "    .dataframe tbody tr th {\n",
              "        vertical-align: top;\n",
              "    }\n",
              "\n",
              "    .dataframe thead th {\n",
              "        text-align: right;\n",
              "    }\n",
              "</style>\n",
              "<table border=\"1\" class=\"dataframe\">\n",
              "  <thead>\n",
              "    <tr style=\"text-align: right;\">\n",
              "      <th></th>\n",
              "      <th>sentiment</th>\n",
              "      <th>message</th>\n",
              "      <th>tweetid</th>\n",
              "    </tr>\n",
              "  </thead>\n",
              "  <tbody>\n",
              "    <tr>\n",
              "      <th>0</th>\n",
              "      <td>1</td>\n",
              "      <td>PolySciMajor EPA chief doesn't think carbon di...</td>\n",
              "      <td>625221</td>\n",
              "    </tr>\n",
              "    <tr>\n",
              "      <th>1</th>\n",
              "      <td>1</td>\n",
              "      <td>It's not like we lack evidence of anthropogeni...</td>\n",
              "      <td>126103</td>\n",
              "    </tr>\n",
              "    <tr>\n",
              "      <th>2</th>\n",
              "      <td>2</td>\n",
              "      <td>RT @RawStory: Researchers say we have three ye...</td>\n",
              "      <td>698562</td>\n",
              "    </tr>\n",
              "    <tr>\n",
              "      <th>3</th>\n",
              "      <td>1</td>\n",
              "      <td>#TodayinMaker# WIRED : 2016 was a pivotal year...</td>\n",
              "      <td>573736</td>\n",
              "    </tr>\n",
              "    <tr>\n",
              "      <th>4</th>\n",
              "      <td>1</td>\n",
              "      <td>RT @SoyNovioDeTodas: It's 2016, and a racist, ...</td>\n",
              "      <td>466954</td>\n",
              "    </tr>\n",
              "  </tbody>\n",
              "</table>\n",
              "</div>"
            ],
            "text/plain": [
              "   sentiment                                            message  tweetid\n",
              "0          1  PolySciMajor EPA chief doesn't think carbon di...   625221\n",
              "1          1  It's not like we lack evidence of anthropogeni...   126103\n",
              "2          2  RT @RawStory: Researchers say we have three ye...   698562\n",
              "3          1  #TodayinMaker# WIRED : 2016 was a pivotal year...   573736\n",
              "4          1  RT @SoyNovioDeTodas: It's 2016, and a racist, ...   466954"
            ]
          },
          "metadata": {
            "tags": []
          },
          "execution_count": 3
        }
      ]
    },
    {
      "cell_type": "markdown",
      "metadata": {
        "id": "VOp1UpqU-Est",
        "colab_type": "text"
      },
      "source": [
        "# EDA"
      ]
    },
    {
      "cell_type": "code",
      "metadata": {
        "trusted": true,
        "id": "LX-7afew-Esu",
        "colab_type": "code",
        "colab": {
          "base_uri": "https://localhost:8080/",
          "height": 295
        },
        "outputId": "91671a60-f00b-4a5d-b139-316cfe0ef6e2"
      },
      "source": [
        "plt.hist(train['sentiment'], bins = 100, edgecolor = 'k')\n",
        "plt.xlabel('type of sentiment')\n",
        "plt.ylabel('count')\n",
        "plt.title('Sentiment distribution')\n",
        "plt.show()"
      ],
      "execution_count": 4,
      "outputs": [
        {
          "output_type": "display_data",
          "data": {
            "image/png": "[encoded data removed]",
            "text/plain": [
              "<Figure size 432x288 with 1 Axes>"
            ]
          },
          "metadata": {
            "tags": [],
            "needs_background": "light"
          }
        }
      ]
    },
    {
      "cell_type": "markdown",
      "metadata": {
        "id": "kbwWhVBu-Esw",
        "colab_type": "text"
      },
      "source": [
        "Majority of the tweets in the training data were classified as type 1."
      ]
    },
    {
      "cell_type": "code",
      "metadata": {
        "trusted": true,
        "id": "ebJKgG8X-Esx",
        "colab_type": "code",
        "colab": {}
      },
      "source": [
        "# explore the word count and tweet lengths\n",
        "train['length'] = train['message'].astype(str).apply(len)\n",
        "train['word_count'] = train['message'].apply(lambda x: len(str(x).split()))\n",
        "test['length'] = test['message'].astype(str).apply(len)\n",
        "test['word_count'] = test['message'].apply(lambda x: len(str(x).split()))"
      ],
      "execution_count": 0,
      "outputs": []
    },
    {
      "cell_type": "code",
      "metadata": {
        "trusted": true,
        "id": "RBrXVJbf-Es1",
        "colab_type": "code",
        "colab": {
          "base_uri": "https://localhost:8080/",
          "height": 295
        },
        "outputId": "63f70d69-ec00-4bcb-8c55-dc35a93734d1"
      },
      "source": [
        "plt.hist([test['length'], train['length']], bins=100, label=['test', 'train'])\n",
        "plt.title('Tweet length distribution per tweet')\n",
        "plt.xlabel('tweet length')\n",
        "plt.ylabel('count')\n",
        "plt.legend(loc='upper left')\n",
        "plt.xlim([0,170])\n",
        "plt.show()\n"
      ],
      "execution_count": 6,
      "outputs": [
        {
          "output_type": "display_data",
          "data": {
            "image/png": "[encoded data removed]",
            "text/plain": [
              "<Figure size 432x288 with 1 Axes>"
            ]
          },
          "metadata": {
            "tags": [],
            "needs_background": "light"
          }
        }
      ]
    },
    {
      "cell_type": "code",
      "metadata": {
        "trusted": true,
        "id": "lqUCXtC1-Es3",
        "colab_type": "code",
        "colab": {
          "base_uri": "https://localhost:8080/",
          "height": 295
        },
        "outputId": "200276b4-e9ff-418e-ab0f-9208daad4a37"
      },
      "source": [
        "plt.hist([test['word_count'], train['word_count']], bins=100, label=['test', 'train'])\n",
        "plt.title('Word count distribution per tweet')\n",
        "plt.xlabel('tweet word count')\n",
        "plt.ylabel('count')\n",
        "plt.legend(loc='upper left')\n",
        "plt.xlim([0,35])\n",
        "plt.show()\n"
      ],
      "execution_count": 7,
      "outputs": [
        {
          "output_type": "display_data",
          "data": {
            "image/png": "[encoded data removed]",
            "text/plain": [
              "<Figure size 432x288 with 1 Axes>"
            ]
          },
          "metadata": {
            "tags": [],
            "needs_background": "light"
          }
        }
      ]
    },
    {
      "cell_type": "markdown",
      "metadata": {
        "id": "nMHPQHtg-Es6",
        "colab_type": "text"
      },
      "source": [
        "# Data preprocessing"
      ]
    },
    {
      "cell_type": "markdown",
      "metadata": {
        "id": "iwDKnY_F-Es6",
        "colab_type": "text"
      },
      "source": [
        "Combine the train and test data inorder to do preprocessing on both datasets.\n",
        "This is essential to test the models being built.\n",
        "This step will also be useful for implementing the API."
      ]
    },
    {
      "cell_type": "code",
      "metadata": {
        "trusted": true,
        "id": "BJXhfFI--Es6",
        "colab_type": "code",
        "colab": {}
      },
      "source": [
        "data = train[['sentiment','message','tweetid']].append(test[['message','tweetid']], ignore_index=True)"
      ],
      "execution_count": 0,
      "outputs": []
    },
    {
      "cell_type": "code",
      "metadata": {
        "trusted": true,
        "id": "dNWL3otx-Es8",
        "colab_type": "code",
        "colab": {
          "base_uri": "https://localhost:8080/",
          "height": 191
        },
        "outputId": "a5689e0a-4b37-414a-86f1-7feeb1ad86d4"
      },
      "source": [
        "data.head()"
      ],
      "execution_count": 9,
      "outputs": [
        {
          "output_type": "execute_result",
          "data": {
            "text/html": [
              "<div>\n",
              "<style scoped>\n",
              "    .dataframe tbody tr th:only-of-type {\n",
              "        vertical-align: middle;\n",
              "    }\n",
              "\n",
              "    .dataframe tbody tr th {\n",
              "        vertical-align: top;\n",
              "    }\n",
              "\n",
              "    .dataframe thead th {\n",
              "        text-align: right;\n",
              "    }\n",
              "</style>\n",
              "<table border=\"1\" class=\"dataframe\">\n",
              "  <thead>\n",
              "    <tr style=\"text-align: right;\">\n",
              "      <th></th>\n",
              "      <th>sentiment</th>\n",
              "      <th>message</th>\n",
              "      <th>tweetid</th>\n",
              "    </tr>\n",
              "  </thead>\n",
              "  <tbody>\n",
              "    <tr>\n",
              "      <th>0</th>\n",
              "      <td>1.0</td>\n",
              "      <td>PolySciMajor EPA chief doesn't think carbon di...</td>\n",
              "      <td>625221</td>\n",
              "    </tr>\n",
              "    <tr>\n",
              "      <th>1</th>\n",
              "      <td>1.0</td>\n",
              "      <td>It's not like we lack evidence of anthropogeni...</td>\n",
              "      <td>126103</td>\n",
              "    </tr>\n",
              "    <tr>\n",
              "      <th>2</th>\n",
              "      <td>2.0</td>\n",
              "      <td>RT @RawStory: Researchers say we have three ye...</td>\n",
              "      <td>698562</td>\n",
              "    </tr>\n",
              "    <tr>\n",
              "      <th>3</th>\n",
              "      <td>1.0</td>\n",
              "      <td>#TodayinMaker# WIRED : 2016 was a pivotal year...</td>\n",
              "      <td>573736</td>\n",
              "    </tr>\n",
              "    <tr>\n",
              "      <th>4</th>\n",
              "      <td>1.0</td>\n",
              "      <td>RT @SoyNovioDeTodas: It's 2016, and a racist, ...</td>\n",
              "      <td>466954</td>\n",
              "    </tr>\n",
              "  </tbody>\n",
              "</table>\n",
              "</div>"
            ],
            "text/plain": [
              "   sentiment                                            message  tweetid\n",
              "0        1.0  PolySciMajor EPA chief doesn't think carbon di...   625221\n",
              "1        1.0  It's not like we lack evidence of anthropogeni...   126103\n",
              "2        2.0  RT @RawStory: Researchers say we have three ye...   698562\n",
              "3        1.0  #TodayinMaker# WIRED : 2016 was a pivotal year...   573736\n",
              "4        1.0  RT @SoyNovioDeTodas: It's 2016, and a racist, ...   466954"
            ]
          },
          "metadata": {
            "tags": []
          },
          "execution_count": 9
        }
      ]
    },
    {
      "cell_type": "code",
      "metadata": {
        "trusted": true,
        "id": "OHDN1qnz-Es-",
        "colab_type": "code",
        "colab": {
          "base_uri": "https://localhost:8080/",
          "height": 191
        },
        "outputId": "917fb094-ec56-4b4b-9f56-321d201d11ef"
      },
      "source": [
        "# lowercase the tweets\n",
        "data['message'] = data['message'].apply(lambda word: \"\".join(word.lower()))\n",
        "data.head()"
      ],
      "execution_count": 10,
      "outputs": [
        {
          "output_type": "execute_result",
          "data": {
            "text/html": [
              "<div>\n",
              "<style scoped>\n",
              "    .dataframe tbody tr th:only-of-type {\n",
              "        vertical-align: middle;\n",
              "    }\n",
              "\n",
              "    .dataframe tbody tr th {\n",
              "        vertical-align: top;\n",
              "    }\n",
              "\n",
              "    .dataframe thead th {\n",
              "        text-align: right;\n",
              "    }\n",
              "</style>\n",
              "<table border=\"1\" class=\"dataframe\">\n",
              "  <thead>\n",
              "    <tr style=\"text-align: right;\">\n",
              "      <th></th>\n",
              "      <th>sentiment</th>\n",
              "      <th>message</th>\n",
              "      <th>tweetid</th>\n",
              "    </tr>\n",
              "  </thead>\n",
              "  <tbody>\n",
              "    <tr>\n",
              "      <th>0</th>\n",
              "      <td>1.0</td>\n",
              "      <td>polyscimajor epa chief doesn't think carbon di...</td>\n",
              "      <td>625221</td>\n",
              "    </tr>\n",
              "    <tr>\n",
              "      <th>1</th>\n",
              "      <td>1.0</td>\n",
              "      <td>it's not like we lack evidence of anthropogeni...</td>\n",
              "      <td>126103</td>\n",
              "    </tr>\n",
              "    <tr>\n",
              "      <th>2</th>\n",
              "      <td>2.0</td>\n",
              "      <td>rt @rawstory: researchers say we have three ye...</td>\n",
              "      <td>698562</td>\n",
              "    </tr>\n",
              "    <tr>\n",
              "      <th>3</th>\n",
              "      <td>1.0</td>\n",
              "      <td>#todayinmaker# wired : 2016 was a pivotal year...</td>\n",
              "      <td>573736</td>\n",
              "    </tr>\n",
              "    <tr>\n",
              "      <th>4</th>\n",
              "      <td>1.0</td>\n",
              "      <td>rt @soynoviodetodas: it's 2016, and a racist, ...</td>\n",
              "      <td>466954</td>\n",
              "    </tr>\n",
              "  </tbody>\n",
              "</table>\n",
              "</div>"
            ],
            "text/plain": [
              "   sentiment                                            message  tweetid\n",
              "0        1.0  polyscimajor epa chief doesn't think carbon di...   625221\n",
              "1        1.0  it's not like we lack evidence of anthropogeni...   126103\n",
              "2        2.0  rt @rawstory: researchers say we have three ye...   698562\n",
              "3        1.0  #todayinmaker# wired : 2016 was a pivotal year...   573736\n",
              "4        1.0  rt @soynoviodetodas: it's 2016, and a racist, ...   466954"
            ]
          },
          "metadata": {
            "tags": []
          },
          "execution_count": 10
        }
      ]
    },
    {
      "cell_type": "code",
      "metadata": {
        "trusted": true,
        "id": "2BGzumA3-Eth",
        "colab_type": "code",
        "colab": {
          "base_uri": "https://localhost:8080/",
          "height": 191
        },
        "outputId": "1ac770e5-19b2-4bd4-be41-056e38ba39d1"
      },
      "source": [
        "# remove stopwords\n",
        "stop_words = stopwords.words('english')\n",
        "data['without_stopwords'] = data['message'].apply(lambda word: \" \".join(word for word in word.split() if word not in stop_words))\n",
        "data.head()"
      ],
      "execution_count": 11,
      "outputs": [
        {
          "output_type": "execute_result",
          "data": {
            "text/html": [
              "<div>\n",
              "<style scoped>\n",
              "    .dataframe tbody tr th:only-of-type {\n",
              "        vertical-align: middle;\n",
              "    }\n",
              "\n",
              "    .dataframe tbody tr th {\n",
              "        vertical-align: top;\n",
              "    }\n",
              "\n",
              "    .dataframe thead th {\n",
              "        text-align: right;\n",
              "    }\n",
              "</style>\n",
              "<table border=\"1\" class=\"dataframe\">\n",
              "  <thead>\n",
              "    <tr style=\"text-align: right;\">\n",
              "      <th></th>\n",
              "      <th>sentiment</th>\n",
              "      <th>message</th>\n",
              "      <th>tweetid</th>\n",
              "      <th>without_stopwords</th>\n",
              "    </tr>\n",
              "  </thead>\n",
              "  <tbody>\n",
              "    <tr>\n",
              "      <th>0</th>\n",
              "      <td>1.0</td>\n",
              "      <td>polyscimajor epa chief doesn't think carbon di...</td>\n",
              "      <td>625221</td>\n",
              "      <td>polyscimajor epa chief think carbon dioxide ma...</td>\n",
              "    </tr>\n",
              "    <tr>\n",
              "      <th>1</th>\n",
              "      <td>1.0</td>\n",
              "      <td>it's not like we lack evidence of anthropogeni...</td>\n",
              "      <td>126103</td>\n",
              "      <td>like lack evidence anthropogenic global warming</td>\n",
              "    </tr>\n",
              "    <tr>\n",
              "      <th>2</th>\n",
              "      <td>2.0</td>\n",
              "      <td>rt @rawstory: researchers say we have three ye...</td>\n",
              "      <td>698562</td>\n",
              "      <td>rt @rawstory: researchers say three years act ...</td>\n",
              "    </tr>\n",
              "    <tr>\n",
              "      <th>3</th>\n",
              "      <td>1.0</td>\n",
              "      <td>#todayinmaker# wired : 2016 was a pivotal year...</td>\n",
              "      <td>573736</td>\n",
              "      <td>#todayinmaker# wired : 2016 pivotal year war c...</td>\n",
              "    </tr>\n",
              "    <tr>\n",
              "      <th>4</th>\n",
              "      <td>1.0</td>\n",
              "      <td>rt @soynoviodetodas: it's 2016, and a racist, ...</td>\n",
              "      <td>466954</td>\n",
              "      <td>rt @soynoviodetodas: 2016, racist, sexist, cli...</td>\n",
              "    </tr>\n",
              "  </tbody>\n",
              "</table>\n",
              "</div>"
            ],
            "text/plain": [
              "   sentiment  ...                                  without_stopwords\n",
              "0        1.0  ...  polyscimajor epa chief think carbon dioxide ma...\n",
              "1        1.0  ...    like lack evidence anthropogenic global warming\n",
              "2        2.0  ...  rt @rawstory: researchers say three years act ...\n",
              "3        1.0  ...  #todayinmaker# wired : 2016 pivotal year war c...\n",
              "4        1.0  ...  rt @soynoviodetodas: 2016, racist, sexist, cli...\n",
              "\n",
              "[5 rows x 4 columns]"
            ]
          },
          "metadata": {
            "tags": []
          },
          "execution_count": 11
        }
      ]
    },
    {
      "cell_type": "code",
      "metadata": {
        "trusted": true,
        "id": "lFtG4mbI-EtD",
        "colab_type": "code",
        "colab": {}
      },
      "source": [
        "def remove_pattern(text,pattern):\n",
        "    usernames = re.findall(pattern, text)\n",
        "    for user in usernames:\n",
        "        text = re.sub(user, '', text)\n",
        "    return text"
      ],
      "execution_count": 0,
      "outputs": []
    },
    {
      "cell_type": "code",
      "metadata": {
        "id": "lT4-SFmSHD8C",
        "colab_type": "code",
        "colab": {}
      },
      "source": [
        "# remove URL\n",
        "#for index,row in data.iterrows():\n",
        "#  row['without_URL'] = re.sub('((www\\.[^\\s]+)|(https?://[^\\s]+))','URL',row['without_URL'])"
      ],
      "execution_count": 0,
      "outputs": []
    },
    {
      "cell_type": "code",
      "metadata": {
        "trusted": true,
        "id": "pW1in6VQ-EtF",
        "colab_type": "code",
        "colab": {}
      },
      "source": [
        "# remove hashtags\n",
        "data['removed_hashtag'] = np.vectorize(remove_pattern)(data['without_stopwords'],\"#[\\w]*\")"
      ],
      "execution_count": 0,
      "outputs": []
    },
    {
      "cell_type": "code",
      "metadata": {
        "trusted": true,
        "id": "mFhWiw6x-EtH",
        "colab_type": "code",
        "colab": {
          "base_uri": "https://localhost:8080/",
          "height": 191
        },
        "outputId": "5b2896b9-209c-4c77-bae4-48362f3cff53"
      },
      "source": [
        "data.head()"
      ],
      "execution_count": 15,
      "outputs": [
        {
          "output_type": "execute_result",
          "data": {
            "text/html": [
              "<div>\n",
              "<style scoped>\n",
              "    .dataframe tbody tr th:only-of-type {\n",
              "        vertical-align: middle;\n",
              "    }\n",
              "\n",
              "    .dataframe tbody tr th {\n",
              "        vertical-align: top;\n",
              "    }\n",
              "\n",
              "    .dataframe thead th {\n",
              "        text-align: right;\n",
              "    }\n",
              "</style>\n",
              "<table border=\"1\" class=\"dataframe\">\n",
              "  <thead>\n",
              "    <tr style=\"text-align: right;\">\n",
              "      <th></th>\n",
              "      <th>sentiment</th>\n",
              "      <th>message</th>\n",
              "      <th>tweetid</th>\n",
              "      <th>without_stopwords</th>\n",
              "      <th>removed_hashtag</th>\n",
              "    </tr>\n",
              "  </thead>\n",
              "  <tbody>\n",
              "    <tr>\n",
              "      <th>0</th>\n",
              "      <td>1.0</td>\n",
              "      <td>polyscimajor epa chief doesn't think carbon di...</td>\n",
              "      <td>625221</td>\n",
              "      <td>polyscimajor epa chief think carbon dioxide ma...</td>\n",
              "      <td>polyscimajor epa chief think carbon dioxide ma...</td>\n",
              "    </tr>\n",
              "    <tr>\n",
              "      <th>1</th>\n",
              "      <td>1.0</td>\n",
              "      <td>it's not like we lack evidence of anthropogeni...</td>\n",
              "      <td>126103</td>\n",
              "      <td>like lack evidence anthropogenic global warming</td>\n",
              "      <td>like lack evidence anthropogenic global warming</td>\n",
              "    </tr>\n",
              "    <tr>\n",
              "      <th>2</th>\n",
              "      <td>2.0</td>\n",
              "      <td>rt @rawstory: researchers say we have three ye...</td>\n",
              "      <td>698562</td>\n",
              "      <td>rt @rawstory: researchers say three years act ...</td>\n",
              "      <td>rt @rawstory: researchers say three years act ...</td>\n",
              "    </tr>\n",
              "    <tr>\n",
              "      <th>3</th>\n",
              "      <td>1.0</td>\n",
              "      <td>#todayinmaker# wired : 2016 was a pivotal year...</td>\n",
              "      <td>573736</td>\n",
              "      <td>#todayinmaker# wired : 2016 pivotal year war c...</td>\n",
              "      <td>wired : 2016 pivotal year war climate change ...</td>\n",
              "    </tr>\n",
              "    <tr>\n",
              "      <th>4</th>\n",
              "      <td>1.0</td>\n",
              "      <td>rt @soynoviodetodas: it's 2016, and a racist, ...</td>\n",
              "      <td>466954</td>\n",
              "      <td>rt @soynoviodetodas: 2016, racist, sexist, cli...</td>\n",
              "      <td>rt @soynoviodetodas: 2016, racist, sexist, cli...</td>\n",
              "    </tr>\n",
              "  </tbody>\n",
              "</table>\n",
              "</div>"
            ],
            "text/plain": [
              "   sentiment  ...                                    removed_hashtag\n",
              "0        1.0  ...  polyscimajor epa chief think carbon dioxide ma...\n",
              "1        1.0  ...    like lack evidence anthropogenic global warming\n",
              "2        2.0  ...  rt @rawstory: researchers say three years act ...\n",
              "3        1.0  ...   wired : 2016 pivotal year war climate change ...\n",
              "4        1.0  ...  rt @soynoviodetodas: 2016, racist, sexist, cli...\n",
              "\n",
              "[5 rows x 5 columns]"
            ]
          },
          "metadata": {
            "tags": []
          },
          "execution_count": 15
        }
      ]
    },
    {
      "cell_type": "code",
      "metadata": {
        "trusted": true,
        "id": "JY2tx_aZ-EtJ",
        "colab_type": "code",
        "colab": {}
      },
      "source": [
        "# remove username\n",
        "data['removed_user_tweet'] = np.vectorize(remove_pattern)(data['removed_hashtag'],\"@[\\w]*\")"
      ],
      "execution_count": 0,
      "outputs": []
    },
    {
      "cell_type": "code",
      "metadata": {
        "trusted": true,
        "id": "014YB0yf-EtN",
        "colab_type": "code",
        "colab": {}
      },
      "source": [
        "#Removing Punctuations, Numbers, and Special Characters\n",
        "data['tidy_tweet'] = data['removed_user_tweet'].str.replace(\"[^a-zA-Z#]\", \" \")\n"
      ],
      "execution_count": 0,
      "outputs": []
    },
    {
      "cell_type": "code",
      "metadata": {
        "trusted": true,
        "id": "HMVzcnot-Etk",
        "colab_type": "code",
        "colab": {}
      },
      "source": [
        "# removing Short Words\n",
        "data['tidy_tweet'] = data['tidy_tweet'].apply(lambda word: ' '.join([word for word in word.split() if len(word)>3]))"
      ],
      "execution_count": 0,
      "outputs": []
    },
    {
      "cell_type": "code",
      "metadata": {
        "trusted": true,
        "id": "v6XPQJKe-Etn",
        "colab_type": "code",
        "colab": {
          "base_uri": "https://localhost:8080/",
          "height": 505
        },
        "outputId": "75cb9664-9618-4827-fe11-61aff40a10fe"
      },
      "source": [
        "# print out cleaned text\n",
        "for_msg = [i for i in data['tidy_tweet']]\n",
        "index = 1\n",
        "for i in for_msg[0:10]:\n",
        "    print(str(index)+\": \" + i)\n",
        "    print('\\n')\n",
        "    index += 1"
      ],
      "execution_count": 20,
      "outputs": [
        {
          "output_type": "stream",
          "text": [
            "1: polyscimajor chief think carbon dioxide main cause global warming wait what https yelvcefxkc\n",
            "\n",
            "\n",
            "2: like lack evidence anthropogenic global warming\n",
            "\n",
            "\n",
            "3: researchers three years climate change late https kdur https anpt\n",
            "\n",
            "\n",
            "4: wired pivotal year climate change https wotxtlcd\n",
            "\n",
            "\n",
            "5: racist sexist climate change denying bigot leading polls\n",
            "\n",
            "\n",
            "6: worth read whether believe climate change https gglzvnyjun https\n",
            "\n",
            "\n",
            "7: mike pence doesn believe global warming smoking causes lung cancer https gvwyaauu\n",
            "\n",
            "\n",
            "8: things today fight climate change climate activist https tymlu dbnm\n",
            "\n",
            "\n",
            "9: nephew inconsolable wants like perish fiery hellscape climate change\n",
            "\n",
            "\n",
            "10: offense like believe global warming\n",
            "\n",
            "\n"
          ],
          "name": "stdout"
        }
      ]
    },
    {
      "cell_type": "markdown",
      "metadata": {
        "id": "Yf7M1poL-Etq",
        "colab_type": "text"
      },
      "source": [
        "1. does URL have impact on tweet sentiment?\n",
        "2. does retweet have any impact on tweet sentiment?\n",
        "3. does removing hashtags remove sentment?\n",
        "4. contractions are a problem - removing doesn't -> doesn"
      ]
    },
    {
      "cell_type": "markdown",
      "metadata": {
        "id": "uhwgnfB2-Etr",
        "colab_type": "text"
      },
      "source": [
        "# Modelling"
      ]
    },
    {
      "cell_type": "markdown",
      "metadata": {
        "id": "e1eFMRyR-Etr",
        "colab_type": "text"
      },
      "source": [
        "# Performance evaluation"
      ]
    },
    {
      "cell_type": "markdown",
      "metadata": {
        "id": "CsOevVEf-Ets",
        "colab_type": "text"
      },
      "source": [
        "# Model analysis"
      ]
    }
  ]
}