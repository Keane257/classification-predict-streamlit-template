{
  "nbformat": 4,
  "nbformat_minor": 0,
  "metadata": {
    "kernelspec": {
      "language": "python",
      "display_name": "Python 3",
      "name": "python3"
    },
    "language_info": {
      "pygments_lexer": "ipython3",
      "nbconvert_exporter": "python",
      "version": "3.6.4",
      "file_extension": ".py",
      "codemirror_mode": {
        "name": "ipython",
        "version": 3
      },
      "name": "python",
      "mimetype": "text/x-python"
    },
    "colab": {
      "name": "climate_change_monica.ipynb",
      "provenance": [],
      "include_colab_link": true
    }
  },
  "cells": [
    {
      "cell_type": "markdown",
      "metadata": {
        "id": "view-in-github",
        "colab_type": "text"
      },
      "source": [
        "<a href=\"https://colab.research.google.com/github/monicafar147/classification-predict-streamlit-template/blob/Template/climate_change_monica.ipynb\" target=\"_parent\"><img src=\"https://colab.research.google.com/assets/colab-badge.svg\" alt=\"Open In Colab\"/></a>"
      ]
    },
    {
      "cell_type": "markdown",
      "metadata": {
        "id": "PagK9onp-Esj",
        "colab_type": "text"
      },
      "source": [
        "# Imports"
      ]
    },
    {
      "cell_type": "code",
      "metadata": {
        "_uuid": "d629ff2d2480ee46fbb7e2d37f6b5fab8052498a",
        "_cell_guid": "79c7e3d0-c299-4dcb-8224-4455121ee9b0",
        "trusted": true,
        "scrolled": true,
        "id": "obQf27Jp-Esk",
        "colab_type": "code",
        "outputId": "12dd7f69-c3c4-44d4-da27-c2701f3ab2b6",
        "colab": {
          "base_uri": "https://localhost:8080/",
          "height": 50
        }
      },
      "source": [
        "import numpy as np \n",
        "import pandas as pd \n",
        "import matplotlib.pyplot as plt\n",
        "import seaborn as sns\n",
        "plt.style.use('seaborn-deep')\n",
        "\n",
        "#text preprocessing\n",
        "import re\n",
        "import string\n",
        "import contractions\n",
        "import nltk\n",
        "from nltk.corpus import stopwords\n",
        "from nltk.tokenize import word_tokenize\n",
        "from textblob import Word\n"
      ],
      "execution_count": 1,
      "outputs": [
        {
          "output_type": "stream",
          "text": [
            "/usr/local/lib/python3.6/dist-packages/statsmodels/tools/_testing.py:19: FutureWarning: pandas.util.testing is deprecated. Use the functions in the public API at pandas.testing instead.\n",
            "  import pandas.util.testing as tm\n"
          ],
          "name": "stderr"
        }
      ]
    },
    {
      "cell_type": "markdown",
      "metadata": {
        "id": "-YEWyOVv-Eso",
        "colab_type": "text"
      },
      "source": [
        "## Importing the data"
      ]
    },
    {
      "cell_type": "code",
      "metadata": {
        "trusted": true,
        "scrolled": true,
        "id": "xC98H3k1-Eso",
        "colab_type": "code",
        "colab": {}
      },
      "source": [
        "train = pd.read_csv(\"https://raw.githubusercontent.com/monicafar147/classification-predict-streamlit-template/master/climate-change-belief-analysis/train.csv\")\n",
        "test = pd.read_csv(\"https://raw.githubusercontent.com/monicafar147/classification-predict-streamlit-template/master/climate-change-belief-analysis/test.csv\")"
      ],
      "execution_count": 0,
      "outputs": []
    },
    {
      "cell_type": "code",
      "metadata": {
        "trusted": true,
        "id": "yaZmpImk-Esr",
        "colab_type": "code",
        "outputId": "076a5843-76ea-4810-8063-4220dce36519",
        "colab": {
          "base_uri": "https://localhost:8080/",
          "height": 191
        }
      },
      "source": [
        "train.head()"
      ],
      "execution_count": 3,
      "outputs": [
        {
          "output_type": "execute_result",
          "data": {
            "text/html": [
              "<div>\n",
              "<style scoped>\n",
              "    .dataframe tbody tr th:only-of-type {\n",
              "        vertical-align: middle;\n",
              "    }\n",
              "\n",
              "    .dataframe tbody tr th {\n",
              "        vertical-align: top;\n",
              "    }\n",
              "\n",
              "    .dataframe thead th {\n",
              "        text-align: right;\n",
              "    }\n",
              "</style>\n",
              "<table border=\"1\" class=\"dataframe\">\n",
              "  <thead>\n",
              "    <tr style=\"text-align: right;\">\n",
              "      <th></th>\n",
              "      <th>sentiment</th>\n",
              "      <th>message</th>\n",
              "      <th>tweetid</th>\n",
              "    </tr>\n",
              "  </thead>\n",
              "  <tbody>\n",
              "    <tr>\n",
              "      <th>0</th>\n",
              "      <td>1</td>\n",
              "      <td>PolySciMajor EPA chief doesn't think carbon di...</td>\n",
              "      <td>625221</td>\n",
              "    </tr>\n",
              "    <tr>\n",
              "      <th>1</th>\n",
              "      <td>1</td>\n",
              "      <td>It's not like we lack evidence of anthropogeni...</td>\n",
              "      <td>126103</td>\n",
              "    </tr>\n",
              "    <tr>\n",
              "      <th>2</th>\n",
              "      <td>2</td>\n",
              "      <td>RT @RawStory: Researchers say we have three ye...</td>\n",
              "      <td>698562</td>\n",
              "    </tr>\n",
              "    <tr>\n",
              "      <th>3</th>\n",
              "      <td>1</td>\n",
              "      <td>#TodayinMaker# WIRED : 2016 was a pivotal year...</td>\n",
              "      <td>573736</td>\n",
              "    </tr>\n",
              "    <tr>\n",
              "      <th>4</th>\n",
              "      <td>1</td>\n",
              "      <td>RT @SoyNovioDeTodas: It's 2016, and a racist, ...</td>\n",
              "      <td>466954</td>\n",
              "    </tr>\n",
              "  </tbody>\n",
              "</table>\n",
              "</div>"
            ],
            "text/plain": [
              "   sentiment                                            message  tweetid\n",
              "0          1  PolySciMajor EPA chief doesn't think carbon di...   625221\n",
              "1          1  It's not like we lack evidence of anthropogeni...   126103\n",
              "2          2  RT @RawStory: Researchers say we have three ye...   698562\n",
              "3          1  #TodayinMaker# WIRED : 2016 was a pivotal year...   573736\n",
              "4          1  RT @SoyNovioDeTodas: It's 2016, and a racist, ...   466954"
            ]
          },
          "metadata": {
            "tags": []
          },
          "execution_count": 3
        }
      ]
    },
    {
      "cell_type": "markdown",
      "metadata": {
        "id": "VOp1UpqU-Est",
        "colab_type": "text"
      },
      "source": [
        "# EDA"
      ]
    },
    {
      "cell_type": "code",
      "metadata": {
        "trusted": true,
        "id": "LX-7afew-Esu",
        "colab_type": "code",
        "outputId": "e7a3f0e4-6b43-42da-960c-e13158ac5cd3",
        "colab": {
          "base_uri": "https://localhost:8080/",
          "height": 295
        }
      },
      "source": [
        "plt.hist(train['sentiment'], bins = 100, edgecolor = 'k')\n",
        "plt.xlabel('type of sentiment')\n",
        "plt.ylabel('count')\n",
        "plt.title('Sentiment distribution')\n",
        "plt.show()"
      ],
      "execution_count": 4,
      "outputs": [
        {
          "output_type": "display_data",
          "data": {
            "image/png": "[encoded data removed]",
            "text/plain": [
              "<Figure size 432x288 with 1 Axes>"
            ]
          },
          "metadata": {
            "tags": [],
            "needs_background": "light"
          }
        }
      ]
    },
    {
      "cell_type": "markdown",
      "metadata": {
        "id": "kbwWhVBu-Esw",
        "colab_type": "text"
      },
      "source": [
        "Majority of the tweets in the training data were classified as type 1."
      ]
    },
    {
      "cell_type": "code",
      "metadata": {
        "trusted": true,
        "id": "ebJKgG8X-Esx",
        "colab_type": "code",
        "colab": {}
      },
      "source": [
        "# explore the word count and tweet lengths\n",
        "train['length'] = train['message'].astype(str).apply(len)\n",
        "train['word_count'] = train['message'].apply(lambda x: len(str(x).split()))\n",
        "test['length'] = test['message'].astype(str).apply(len)\n",
        "test['word_count'] = test['message'].apply(lambda x: len(str(x).split()))"
      ],
      "execution_count": 0,
      "outputs": []
    },
    {
      "cell_type": "code",
      "metadata": {
        "trusted": true,
        "id": "RBrXVJbf-Es1",
        "colab_type": "code",
        "outputId": "a811fcee-4c1c-402e-f26b-e65cbbac8f38",
        "colab": {
          "base_uri": "https://localhost:8080/",
          "height": 295
        }
      },
      "source": [
        "plt.hist([test['length'], train['length']], bins=100, label=['test', 'train'])\n",
        "plt.title('Tweet length distribution per tweet')\n",
        "plt.xlabel('tweet length')\n",
        "plt.ylabel('count')\n",
        "plt.legend(loc='upper left')\n",
        "plt.xlim([0,170])\n",
        "plt.show()\n"
      ],
      "execution_count": 6,
      "outputs": [
        {
          "output_type": "display_data",
          "data": {
            "image/png": "[encoded data removed]",
            "text/plain": [
              "<Figure size 432x288 with 1 Axes>"
            ]
          },
          "metadata": {
            "tags": [],
            "needs_background": "light"
          }
        }
      ]
    },
    {
      "cell_type": "code",
      "metadata": {
        "trusted": true,
        "id": "lqUCXtC1-Es3",
        "colab_type": "code",
        "outputId": "183aaa6d-9edc-466f-abba-85fc21f310e4",
        "colab": {
          "base_uri": "https://localhost:8080/",
          "height": 295
        }
      },
      "source": [
        "plt.hist([test['word_count'], train['word_count']], bins=100, label=['test', 'train'])\n",
        "plt.title('Word count distribution per tweet')\n",
        "plt.xlabel('tweet word count')\n",
        "plt.ylabel('count')\n",
        "plt.legend(loc='upper left')\n",
        "plt.xlim([0,35])\n",
        "plt.show()\n"
      ],
      "execution_count": 7,
      "outputs": [
        {
          "output_type": "display_data",
          "data": {
            "image/png": "[encoded data removed]",
            "text/plain": [
              "<Figure size 432x288 with 1 Axes>"
            ]
          },
          "metadata": {
            "tags": [],
            "needs_background": "light"
          }
        }
      ]
    },
    {
      "cell_type": "markdown",
      "metadata": {
        "id": "nMHPQHtg-Es6",
        "colab_type": "text"
      },
      "source": [
        "# Data preprocessing"
      ]
    },
    {
      "cell_type": "markdown",
      "metadata": {
        "id": "iwDKnY_F-Es6",
        "colab_type": "text"
      },
      "source": [
        "Combine the train and test data inorder to do preprocessing on both datasets.\n",
        "This is essential to test the models being built.\n",
        "This step will also be useful for implementing the API."
      ]
    },
    {
      "cell_type": "code",
      "metadata": {
        "trusted": true,
        "id": "HMVzcnot-Etk",
        "colab_type": "code",
        "colab": {}
      },
      "source": [
        "# removing Short Words\n",
        "#data['tidy_tweet'] = data['tidy_tweet'].apply(lambda word: ' '.join([word for word in word.split() if len(word)>3]))"
      ],
      "execution_count": 0,
      "outputs": []
    },
    {
      "cell_type": "code",
      "metadata": {
        "id": "WuqktZzBD2yK",
        "colab_type": "code",
        "colab": {}
      },
      "source": [
        "def _preprocess(data):\n",
        "  df = data.copy()\n",
        "\n",
        "  # apply lowercase to data\n",
        "  data['message'] = data['message'].apply(lambda word: ''.join(word.lower()))\n",
        "\n",
        "  # function to remove contraction\n",
        "  def remove_contraction(row):\n",
        "    fixed = [contractions.fix(word) for word in row.split()]\n",
        "    return ' '.join(map(str,fixed))\n",
        "\n",
        "  # replace contractions\n",
        "  df['message'] = np.vectorize(remove_contraction)(df['message'])\n",
        "\n",
        "  # function to remove patterns\n",
        "  def remove_pattern(text,pattern,replacement=''):\n",
        "    remove_this = re.findall(pattern, text)\n",
        "    for item in remove_this:\n",
        "      text = re.sub(item, replacement, text)\n",
        "    return text\n",
        "\n",
        "  # remove hashtags\n",
        "  df['message'] = np.vectorize(remove_pattern)(df['message'],\"#[\\w]*\")\n",
        "\n",
        "  # remove username\n",
        "  df['message'] = np.vectorize(remove_pattern)(df['message'],\"@[\\w]*\")\n",
        "\n",
        "  # remove URL\n",
        "  df['message'] = df['message'].apply(lambda word: re.split('https:\\/\\/.*', str(word))[0])\n",
        "\n",
        "  # remove punctuation\n",
        "  df['message'] = df['message'].apply(lambda word: word.translate(str.maketrans('', '', string.punctuation)))\n",
        "\n",
        "  # remove stopwords\n",
        "  stop_words = stopwords.words('english')\n",
        "  data['message'] = data['message'].apply(lambda word: ' '.join(word for word in word.split() if word not in stop_words))\n",
        "\n",
        "  # remove retweet as rt\n",
        "\n",
        "  return df"
      ],
      "execution_count": 0,
      "outputs": []
    },
    {
      "cell_type": "code",
      "metadata": {
        "trusted": true,
        "id": "BJXhfFI--Es6",
        "colab_type": "code",
        "colab": {}
      },
      "source": [
        "trained = train[['sentiment','message','tweetid']]\n",
        "tested = test[['message','tweetid']]"
      ],
      "execution_count": 0,
      "outputs": []
    },
    {
      "cell_type": "code",
      "metadata": {
        "id": "wjNY5xO3EqJU",
        "colab_type": "code",
        "colab": {}
      },
      "source": [
        "train_processed = _preprocess(train)"
      ],
      "execution_count": 0,
      "outputs": []
    },
    {
      "cell_type": "code",
      "metadata": {
        "id": "2fWntWO6gE6R",
        "colab_type": "code",
        "colab": {}
      },
      "source": [
        "test_processed = _preprocess(test)"
      ],
      "execution_count": 0,
      "outputs": []
    },
    {
      "cell_type": "code",
      "metadata": {
        "trusted": true,
        "id": "v6XPQJKe-Etn",
        "colab_type": "code",
        "outputId": "e13916b9-47e1-460a-c208-ba447b74a48f",
        "colab": {
          "base_uri": "https://localhost:8080/",
          "height": 505
        }
      },
      "source": [
        "# print out cleaned text\n",
        "for_msg = [word for word in train_processed['message']]\n",
        "index = 1\n",
        "for tweet in for_msg[0:10]:\n",
        "    print(str(index)+\": \" + tweet)\n",
        "    print('\\n')\n",
        "    index += 1"
      ],
      "execution_count": 11,
      "outputs": [
        {
          "output_type": "stream",
          "text": [
            "1: polyscimajor epa chief think carbon dioxide main because global warming and wait what \n",
            "\n",
            "\n",
            "2: like lack evidence anthropogenic global warming\n",
            "\n",
            "\n",
            "3: rt  researchers say three years act climate change it is late \n",
            "\n",
            "\n",
            "4:  wired  2016 pivotal year war climate change \n",
            "\n",
            "\n",
            "5: rt  2016 racist sexist climate change denying bigot leading polls \n",
            "\n",
            "\n",
            "6: worth read whether believe climate change \n",
            "\n",
            "\n",
            "7: rt  mike pence does not believe global warming smoking causes lung cancer \n",
            "\n",
            "\n",
            "8: rt  six big things today fight climate change climate activistã¢â‚¬â¦ \n",
            "\n",
            "\n",
            "9:  8yo nephew inconsolable wants die old age like me perish fiery hellscape climate change\n",
            "\n",
            "\n",
            "10: rt  offense… like… believe… global warming………\n",
            "\n",
            "\n"
          ],
          "name": "stdout"
        }
      ]
    },
    {
      "cell_type": "markdown",
      "metadata": {
        "id": "Yf7M1poL-Etq",
        "colab_type": "text"
      },
      "source": [
        "1. does URL have impact on tweet sentiment?\n",
        "2. does retweet have any impact on tweet sentiment?\n",
        "3. does removing hashtags remove sentment?\n",
        "4. contractions are a problem - removing doesn't -> doesn"
      ]
    },
    {
      "cell_type": "code",
      "metadata": {
        "trusted": true,
        "colab_type": "code",
        "id": "HQYFao4SeqjV",
        "colab": {}
      },
      "source": [
        "# explore the word count and tweet lengths\n",
        "train_processed['length'] = train_processed['message'].astype(str).apply(len)\n",
        "train_processed['word_count'] = train_processed['message'].apply(lambda x: len(str(x).split()))\n",
        "test_processed['length'] = test_processed['message'].astype(str).apply(len)\n",
        "test_processed['word_count'] = test_processed['message'].apply(lambda x: len(str(x).split()))"
      ],
      "execution_count": 0,
      "outputs": []
    },
    {
      "cell_type": "code",
      "metadata": {
        "trusted": true,
        "colab_type": "code",
        "outputId": "9da47523-7d23-48a7-b49e-b99082c7f030",
        "id": "JjvGsBofeqjZ",
        "colab": {
          "base_uri": "https://localhost:8080/",
          "height": 295
        }
      },
      "source": [
        "plt.hist([train['length'], train_processed['length']], bins=100, label=['before', 'after'])\n",
        "plt.title('Tweet length distribution per tweet')\n",
        "plt.xlabel('tweet length')\n",
        "plt.ylabel('count')\n",
        "plt.legend(loc='upper left')\n",
        "plt.xlim([0,170])\n",
        "plt.show()\n"
      ],
      "execution_count": 14,
      "outputs": [
        {
          "output_type": "display_data",
          "data": {
            "image/png": "[encoded data removed]",
            "text/plain": [
              "<Figure size 432x288 with 1 Axes>"
            ]
          },
          "metadata": {
            "tags": [],
            "needs_background": "light"
          }
        }
      ]
    },
    {
      "cell_type": "code",
      "metadata": {
        "id": "NFGxCsrxhlXH",
        "colab_type": "code",
        "colab": {
          "base_uri": "https://localhost:8080/",
          "height": 295
        },
        "outputId": "7f1784d0-f3b5-4f73-9c72-d20382e247ec"
      },
      "source": [
        "plt.hist([test['length'], test_processed['length']], bins=100, label=['before', 'after'])\n",
        "plt.title('Tweet length distribution per tweet')\n",
        "plt.xlabel('tweet length')\n",
        "plt.ylabel('count')\n",
        "plt.legend(loc='upper left')\n",
        "plt.xlim([0,170])\n",
        "plt.show()"
      ],
      "execution_count": 15,
      "outputs": [
        {
          "output_type": "display_data",
          "data": {
            "image/png": "[encoded data removed]",
            "text/plain": [
              "<Figure size 432x288 with 1 Axes>"
            ]
          },
          "metadata": {
            "tags": [],
            "needs_background": "light"
          }
        }
      ]
    },
    {
      "cell_type": "markdown",
      "metadata": {
        "id": "aO19T2y4hyGL",
        "colab_type": "text"
      },
      "source": [
        "After the preprocessing function the tweet lengths seemed to increase."
      ]
    },
    {
      "cell_type": "code",
      "metadata": {
        "id": "S9mFfMUdh948",
        "colab_type": "code",
        "colab": {
          "base_uri": "https://localhost:8080/",
          "height": 295
        },
        "outputId": "aa037cbf-8857-487b-a23e-f87b74093749"
      },
      "source": [
        "plt.hist([train['word_count'], train_processed['word_count']], bins=100, label=['before', 'after'])\n",
        "plt.title('Word count distribution per tweet')\n",
        "plt.xlabel('tweet word count')\n",
        "plt.ylabel('count')\n",
        "plt.legend(loc='upper right')\n",
        "plt.xlim([0,35])\n",
        "plt.show()"
      ],
      "execution_count": 19,
      "outputs": [
        {
          "output_type": "display_data",
          "data": {
            "image/png": "[encoded data removed]",
            "text/plain": [
              "<Figure size 432x288 with 1 Axes>"
            ]
          },
          "metadata": {
            "tags": [],
            "needs_background": "light"
          }
        }
      ]
    },
    {
      "cell_type": "code",
      "metadata": {
        "id": "Ko_B6o_liFgj",
        "colab_type": "code",
        "colab": {
          "base_uri": "https://localhost:8080/",
          "height": 295
        },
        "outputId": "c7cb110a-5705-412f-ad0e-3726e45228cb"
      },
      "source": [
        "plt.hist([test['word_count'], test_processed['word_count']], bins=100, label=['before', 'after'])\n",
        "plt.title('Word count distribution per tweet')\n",
        "plt.xlabel('tweet word count')\n",
        "plt.ylabel('count')\n",
        "plt.legend(loc='upper right')\n",
        "plt.xlim([0,35])\n",
        "plt.show()"
      ],
      "execution_count": 20,
      "outputs": [
        {
          "output_type": "display_data",
          "data": {
            "image/png": "[encoded data removed]",
            "text/plain": [
              "<Figure size 432x288 with 1 Axes>"
            ]
          },
          "metadata": {
            "tags": [],
            "needs_background": "light"
          }
        }
      ]
    },
    {
      "cell_type": "markdown",
      "metadata": {
        "id": "uhwgnfB2-Etr",
        "colab_type": "text"
      },
      "source": [
        "# Modelling"
      ]
    },
    {
      "cell_type": "markdown",
      "metadata": {
        "id": "e1eFMRyR-Etr",
        "colab_type": "text"
      },
      "source": [
        "# Performance evaluation"
      ]
    },
    {
      "cell_type": "markdown",
      "metadata": {
        "id": "CsOevVEf-Ets",
        "colab_type": "text"
      },
      "source": [
        "# Model analysis"
      ]
    }
  ]
}