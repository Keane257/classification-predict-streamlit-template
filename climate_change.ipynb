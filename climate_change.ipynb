{
  "nbformat": 4,
  "nbformat_minor": 0,
  "metadata": {
    "colab": {
      "name": "climate_change.ipynb",
      "provenance": [],
      "toc_visible": true,
      "include_colab_link": true
    },
    "kernelspec": {
      "name": "python3",
      "display_name": "Python 3"
    }
  },
  "cells": [
    {
      "cell_type": "markdown",
      "metadata": {
        "id": "view-in-github",
        "colab_type": "text"
      },
      "source": [
        "<a href=\"https://colab.research.google.com/github/monicafar147/classification-predict-streamlit-template/blob/Template/climate_change.ipynb\" target=\"_parent\"><img src=\"https://colab.research.google.com/assets/colab-badge.svg\" alt=\"Open In Colab\"/></a>"
      ]
    },
    {
      "cell_type": "code",
      "metadata": {
        "id": "MOAplziY4_u6",
        "colab_type": "code",
        "colab": {}
      },
      "source": [
        "import pandas as pd\n",
        "import numpy as np\n",
        "import nltk"
      ],
      "execution_count": 0,
      "outputs": []
    },
    {
      "cell_type": "code",
      "metadata": {
        "id": "nkhLmoV8DBma",
        "colab_type": "code",
        "colab": {}
      },
      "source": [
        "kaggle = pd.read_csv('train.csv')"
      ],
      "execution_count": 0,
      "outputs": []
    },
    {
      "cell_type": "code",
      "metadata": {
        "id": "Xks8B7g2Ie3A",
        "colab_type": "code",
        "colab": {
          "base_uri": "https://localhost:8080/",
          "height": 343
        },
        "outputId": "a1b5ac95-02ce-4349-f5c3-bf623f77d6ac"
      },
      "source": [
        "kaggle.head(10)"
      ],
      "execution_count": 13,
      "outputs": [
        {
          "output_type": "execute_result",
          "data": {
            "text/html": [
              "<div>\n",
              "<style scoped>\n",
              "    .dataframe tbody tr th:only-of-type {\n",
              "        vertical-align: middle;\n",
              "    }\n",
              "\n",
              "    .dataframe tbody tr th {\n",
              "        vertical-align: top;\n",
              "    }\n",
              "\n",
              "    .dataframe thead th {\n",
              "        text-align: right;\n",
              "    }\n",
              "</style>\n",
              "<table border=\"1\" class=\"dataframe\">\n",
              "  <thead>\n",
              "    <tr style=\"text-align: right;\">\n",
              "      <th></th>\n",
              "      <th>sentiment</th>\n",
              "      <th>message</th>\n",
              "      <th>tweetid</th>\n",
              "    </tr>\n",
              "  </thead>\n",
              "  <tbody>\n",
              "    <tr>\n",
              "      <th>0</th>\n",
              "      <td>1</td>\n",
              "      <td>PolySciMajor EPA chief doesn't think carbon di...</td>\n",
              "      <td>625221</td>\n",
              "    </tr>\n",
              "    <tr>\n",
              "      <th>1</th>\n",
              "      <td>1</td>\n",
              "      <td>It's not like we lack evidence of anthropogeni...</td>\n",
              "      <td>126103</td>\n",
              "    </tr>\n",
              "    <tr>\n",
              "      <th>2</th>\n",
              "      <td>2</td>\n",
              "      <td>RT @RawStory: Researchers say we have three ye...</td>\n",
              "      <td>698562</td>\n",
              "    </tr>\n",
              "    <tr>\n",
              "      <th>3</th>\n",
              "      <td>1</td>\n",
              "      <td>#TodayinMaker# WIRED : 2016 was a pivotal year...</td>\n",
              "      <td>573736</td>\n",
              "    </tr>\n",
              "    <tr>\n",
              "      <th>4</th>\n",
              "      <td>1</td>\n",
              "      <td>RT @SoyNovioDeTodas: It's 2016, and a racist, ...</td>\n",
              "      <td>466954</td>\n",
              "    </tr>\n",
              "    <tr>\n",
              "      <th>5</th>\n",
              "      <td>1</td>\n",
              "      <td>Worth a read whether you do or don't believe i...</td>\n",
              "      <td>425577</td>\n",
              "    </tr>\n",
              "    <tr>\n",
              "      <th>6</th>\n",
              "      <td>1</td>\n",
              "      <td>RT @thenation: Mike Pence doesn’t believe in g...</td>\n",
              "      <td>294933</td>\n",
              "    </tr>\n",
              "    <tr>\n",
              "      <th>7</th>\n",
              "      <td>1</td>\n",
              "      <td>RT @makeandmendlife: Six big things we can ALL...</td>\n",
              "      <td>992717</td>\n",
              "    </tr>\n",
              "    <tr>\n",
              "      <th>8</th>\n",
              "      <td>1</td>\n",
              "      <td>@AceofSpadesHQ My 8yo nephew is inconsolable. ...</td>\n",
              "      <td>664510</td>\n",
              "    </tr>\n",
              "    <tr>\n",
              "      <th>9</th>\n",
              "      <td>1</td>\n",
              "      <td>RT @paigetweedy: no offense… but like… how do ...</td>\n",
              "      <td>260471</td>\n",
              "    </tr>\n",
              "  </tbody>\n",
              "</table>\n",
              "</div>"
            ],
            "text/plain": [
              "   sentiment                                            message  tweetid\n",
              "0          1  PolySciMajor EPA chief doesn't think carbon di...   625221\n",
              "1          1  It's not like we lack evidence of anthropogeni...   126103\n",
              "2          2  RT @RawStory: Researchers say we have three ye...   698562\n",
              "3          1  #TodayinMaker# WIRED : 2016 was a pivotal year...   573736\n",
              "4          1  RT @SoyNovioDeTodas: It's 2016, and a racist, ...   466954\n",
              "5          1  Worth a read whether you do or don't believe i...   425577\n",
              "6          1  RT @thenation: Mike Pence doesn’t believe in g...   294933\n",
              "7          1  RT @makeandmendlife: Six big things we can ALL...   992717\n",
              "8          1  @AceofSpadesHQ My 8yo nephew is inconsolable. ...   664510\n",
              "9          1  RT @paigetweedy: no offense… but like… how do ...   260471"
            ]
          },
          "metadata": {
            "tags": []
          },
          "execution_count": 13
        }
      ]
    },
    {
      "cell_type": "markdown",
      "metadata": {
        "id": "gHrVCvWHGHQi",
        "colab_type": "text"
      },
      "source": [
        "# EDA\n",
        "First we try see how the tweets are related. so we created a list with just the tweets with a sentiment of 1 to see how theey are related"
      ]
    },
    {
      "cell_type": "code",
      "metadata": {
        "id": "j3p7AMawF6cm",
        "colab_type": "code",
        "colab": {
          "base_uri": "https://localhost:8080/",
          "height": 924
        },
        "outputId": "c4397d66-cc7d-4715-8377-c2defa6872bd"
      },
      "source": [
        "df = kaggle.copy()\n",
        "df_for = df[df['sentiment']==1]\n",
        "\n",
        "df_for['message'] = df_for['message'].str.replace('http\\S+|www.\\S+', '', case=False) #removing the link\n",
        "df_for['message'] = df_for['message'].str.replace('#','') #removing the \"#\"\n",
        "df_for['message'] = df_for['message'].str.replace('R\\S+|T\\S+','') # removing \"RT\"\n",
        "df_for['message'] = df_for['message'].str.replace('@\\S','') # removing \"@string\"\n",
        "\n",
        "for_msg = [i for i in df_for['message']]\n",
        "index = 1\n",
        "for i in for_msg[0:10]:\n",
        "    print(str(index)+\": \" + i)\n",
        "    print('\\n')\n",
        "    index += 1"
      ],
      "execution_count": 5,
      "outputs": [
        {
          "output_type": "stream",
          "text": [
            "1: PolySciMajor EPA chief doesn't think carbon dioxide is main cause of global warming and.. wait, what!?  via ashable\n",
            "\n",
            "\n",
            "2: It's not like we lack evidence of anthropogenic global warming\n",
            "\n",
            "\n",
            "3:  WI : 2016 was a pivotal year in the war on climate change \n",
            "\n",
            "\n",
            "4:  oyNovioDe It's 2016, and a racist, sexist, climate change denying bigot is leading in the polls. ElectionNight\n",
            "\n",
            "\n",
            "5: Worth a read whether you do or don't believe in climate change  \n",
            "\n",
            "\n",
            "6:  henation: Mike Pence doesn’t believe in global warming or that smoking causes lung cancer. \n",
            "\n",
            "\n",
            "7:  akeandmendlife: Six big things we can ALL do today to fight climate change, or how to be a climate activistÃ¢â‚¬Â¦  hÃ¢â‚¬Â¦\n",
            "\n",
            "\n",
            "8: ceofSpadesHQ My 8yo nephew is inconsolable. He wants to die of old age like me, but will perish in the fiery hellscape of climate change.\n",
            "\n",
            "\n",
            "9:  aigetweedy: no offense… but like… how do you just not believe… in global warming………\n",
            "\n",
            "\n",
            "10:  tephenSchlegel: she's thinking about how she's going to die because your husband doesn't believe in climate change \n",
            "\n",
            "\n"
          ],
          "name": "stdout"
        },
        {
          "output_type": "stream",
          "text": [
            "/usr/local/lib/python3.6/dist-packages/ipykernel_launcher.py:4: SettingWithCopyWarning: \n",
            "A value is trying to be set on a copy of a slice from a DataFrame.\n",
            "Try using .loc[row_indexer,col_indexer] = value instead\n",
            "\n",
            "See the caveats in the documentation: https://pandas.pydata.org/pandas-docs/stable/user_guide/indexing.html#returning-a-view-versus-a-copy\n",
            "  after removing the cwd from sys.path.\n",
            "/usr/local/lib/python3.6/dist-packages/ipykernel_launcher.py:5: SettingWithCopyWarning: \n",
            "A value is trying to be set on a copy of a slice from a DataFrame.\n",
            "Try using .loc[row_indexer,col_indexer] = value instead\n",
            "\n",
            "See the caveats in the documentation: https://pandas.pydata.org/pandas-docs/stable/user_guide/indexing.html#returning-a-view-versus-a-copy\n",
            "  \"\"\"\n",
            "/usr/local/lib/python3.6/dist-packages/ipykernel_launcher.py:6: SettingWithCopyWarning: \n",
            "A value is trying to be set on a copy of a slice from a DataFrame.\n",
            "Try using .loc[row_indexer,col_indexer] = value instead\n",
            "\n",
            "See the caveats in the documentation: https://pandas.pydata.org/pandas-docs/stable/user_guide/indexing.html#returning-a-view-versus-a-copy\n",
            "  \n",
            "/usr/local/lib/python3.6/dist-packages/ipykernel_launcher.py:7: SettingWithCopyWarning: \n",
            "A value is trying to be set on a copy of a slice from a DataFrame.\n",
            "Try using .loc[row_indexer,col_indexer] = value instead\n",
            "\n",
            "See the caveats in the documentation: https://pandas.pydata.org/pandas-docs/stable/user_guide/indexing.html#returning-a-view-versus-a-copy\n",
            "  import sys\n"
          ],
          "name": "stderr"
        }
      ]
    },
    {
      "cell_type": "markdown",
      "metadata": {
        "id": "PPGDRDZ9GtRX",
        "colab_type": "text"
      },
      "source": [
        "### Summary\n",
        "From this we can see that having the retweets, links and @'s, can be important because tweets 4 has a link attached that is pro-climate change so the tweet itself doesnt contain any biasy but the link it supplies does. So we will do this again but with all the info from the tweet."
      ]
    },
    {
      "cell_type": "code",
      "metadata": {
        "id": "vPmxvnvqF6fl",
        "colab_type": "code",
        "colab": {
          "base_uri": "https://localhost:8080/",
          "height": 541
        },
        "outputId": "abb24b0d-8c90-46b5-c1e2-fa7c40653a73"
      },
      "source": [
        "df = kaggle.copy()\n",
        "df_for = df[df['sentiment']==1]\n",
        "\n",
        "for_msg = [i for i in df_for['message']]\n",
        "index = 1 # just for read-ablity\n",
        "for i in for_msg[0:10]: # first 10 only\n",
        "    print(str(index)+\": \" + i)\n",
        "    print('\\n')\n",
        "    index += 1"
      ],
      "execution_count": 6,
      "outputs": [
        {
          "output_type": "stream",
          "text": [
            "1: PolySciMajor EPA chief doesn't think carbon dioxide is main cause of global warming and.. wait, what!? https://t.co/yeLvcEFXkC via @mashable\n",
            "\n",
            "\n",
            "2: It's not like we lack evidence of anthropogenic global warming\n",
            "\n",
            "\n",
            "3: #TodayinMaker# WIRED : 2016 was a pivotal year in the war on climate change https://t.co/44wOTxTLcD\n",
            "\n",
            "\n",
            "4: RT @SoyNovioDeTodas: It's 2016, and a racist, sexist, climate change denying bigot is leading in the polls. #ElectionNight\n",
            "\n",
            "\n",
            "5: Worth a read whether you do or don't believe in climate change https://t.co/ggLZVNYjun https://t.co/7AFE2mAH8j\n",
            "\n",
            "\n",
            "6: RT @thenation: Mike Pence doesn’t believe in global warming or that smoking causes lung cancer. https://t.co/gvWYaauU8R\n",
            "\n",
            "\n",
            "7: RT @makeandmendlife: Six big things we can ALL do today to fight climate change, or how to be a climate activistÃ¢â‚¬Â¦ https://t.co/TYMLu6DbNM hÃ¢â‚¬Â¦\n",
            "\n",
            "\n",
            "8: @AceofSpadesHQ My 8yo nephew is inconsolable. He wants to die of old age like me, but will perish in the fiery hellscape of climate change.\n",
            "\n",
            "\n",
            "9: RT @paigetweedy: no offense… but like… how do you just not believe… in global warming………\n",
            "\n",
            "\n",
            "10: RT @StephenSchlegel: she's thinking about how she's going to die because your husband doesn't believe in climate change https://t.co/SjoFoNÃ¢â‚¬Â¦\n",
            "\n",
            "\n"
          ],
          "name": "stdout"
        }
      ]
    },
    {
      "cell_type": "markdown",
      "metadata": {
        "id": "CoTRq36xG320",
        "colab_type": "text"
      },
      "source": [
        "### Summary\n",
        "Line 5 - possible outlier?\n",
        "\n",
        "Now we can try to see the relationshis and what the sentiment takes in to consideration"
      ]
    },
    {
      "cell_type": "code",
      "metadata": {
        "id": "T07dh87iF6k0",
        "colab_type": "code",
        "colab": {}
      },
      "source": [
        "#make 'message' column type str. Is it necessary? I dunno \\(0_0)/\n",
        "kaggle['message'] = kaggle['message'].astype(str)"
      ],
      "execution_count": 0,
      "outputs": []
    },
    {
      "cell_type": "code",
      "metadata": {
        "id": "No0eBIhMF6nd",
        "colab_type": "code",
        "colab": {}
      },
      "source": [
        "#Remove all links eg :https \n",
        "kaggle['message'] = kaggle['message'].str.replace('http\\S+|www.\\S+', '', case=False)"
      ],
      "execution_count": 0,
      "outputs": []
    },
    {
      "cell_type": "code",
      "metadata": {
        "id": "c2qgfJn6F6qJ",
        "colab_type": "code",
        "colab": {
          "base_uri": "https://localhost:8080/",
          "height": 218
        },
        "outputId": "16810089-1be3-49f9-cd8c-a432e3b23bda"
      },
      "source": [
        "kaggle['message']"
      ],
      "execution_count": 9,
      "outputs": [
        {
          "output_type": "execute_result",
          "data": {
            "text/plain": [
              "0        PolySciMajor EPA chief doesn't think carbon di...\n",
              "1        It's not like we lack evidence of anthropogeni...\n",
              "2        RT @RawStory: Researchers say we have three ye...\n",
              "3        #TodayinMaker# WIRED : 2016 was a pivotal year...\n",
              "4        RT @SoyNovioDeTodas: It's 2016, and a racist, ...\n",
              "                               ...                        \n",
              "15814    RT @ezlusztig: They took down the material on ...\n",
              "15815    RT @washingtonpost: How climate change could b...\n",
              "15816    notiven: RT: nytimesworld :What does Trump act...\n",
              "15817    RT @sara8smiles: Hey liberals the climate chan...\n",
              "15818    RT @Chet_Cannon: .@kurteichenwald's 'climate c...\n",
              "Name: message, Length: 15819, dtype: object"
            ]
          },
          "metadata": {
            "tags": []
          },
          "execution_count": 9
        }
      ]
    },
    {
      "cell_type": "code",
      "metadata": {
        "id": "qKPlMZevF6ss",
        "colab_type": "code",
        "colab": {}
      },
      "source": [
        "#Do we have to remove RT(retweet) and usernames? eg rt @rawstory "
      ],
      "execution_count": 0,
      "outputs": []
    },
    {
      "cell_type": "code",
      "metadata": {
        "id": "ch-Bnec0HwLN",
        "colab_type": "code",
        "colab": {}
      },
      "source": [
        "#Remove empty rows\n",
        "#strip tweets all punctuation"
      ],
      "execution_count": 0,
      "outputs": []
    },
    {
      "cell_type": "code",
      "metadata": {
        "id": "yKfGrXgRHwNk",
        "colab_type": "code",
        "colab": {}
      },
      "source": [
        ""
      ],
      "execution_count": 0,
      "outputs": []
    }
  ]
}