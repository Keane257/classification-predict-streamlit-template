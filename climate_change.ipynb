{
  "nbformat": 4,
  "nbformat_minor": 0,
  "metadata": {
    "colab": {
      "name": "climate_change.ipynb",
      "provenance": [],
      "toc_visible": true,
      "include_colab_link": true
    },
    "kernelspec": {
      "name": "python3",
      "display_name": "Python 3"
    }
  },
  "cells": [
    {
      "cell_type": "markdown",
      "metadata": {
        "id": "view-in-github",
        "colab_type": "text"
      },
      "source": [
        "<a href=\"https://colab.research.google.com/github/monicafar147/classification-predict-streamlit-template/blob/Template/climate_change.ipynb\" target=\"_parent\"><img src=\"https://colab.research.google.com/assets/colab-badge.svg\" alt=\"Open In Colab\"/></a>"
      ]
    },
    {
      "cell_type": "markdown",
      "metadata": {
        "id": "yjneyQwAO5YE",
        "colab_type": "text"
      },
      "source": [
        "# Imports"
      ]
    },
    {
      "cell_type": "markdown",
      "metadata": {
        "id": "T93XoqBuO-QD",
        "colab_type": "text"
      },
      "source": [
        "## Importing the modules"
      ]
    },
    {
      "cell_type": "code",
      "metadata": {
        "id": "MOAplziY4_u6",
        "colab_type": "code",
        "colab": {
          "base_uri": "https://localhost:8080/",
          "height": 50
        },
        "outputId": "db42993e-b299-42e9-da09-1724ec31abfc"
      },
      "source": [
        "import numpy as np \n",
        "import pandas as pd \n",
        "import matplotlib.pyplot as plt\n",
        "import seaborn as sns\n",
        "plt.style.use('seaborn-deep')\n",
        "\n",
        "#text preprocessing\n",
        "import re\n",
        "import string\n",
        "import contractions\n",
        "import nltk\n",
        "from nltk.corpus import stopwords\n",
        "from nltk.tokenize import word_tokenize\n",
        "from textblob import Word"
      ],
      "execution_count": null,
      "outputs": [
        {
          "output_type": "stream",
          "text": [
            "/usr/local/lib/python3.6/dist-packages/statsmodels/tools/_testing.py:19: FutureWarning: pandas.util.testing is deprecated. Use the functions in the public API at pandas.testing instead.\n",
            "  import pandas.util.testing as tm\n"
          ],
          "name": "stderr"
        }
      ]
    },
    {
      "cell_type": "markdown",
      "metadata": {
        "id": "63MiExKMO0zG",
        "colab_type": "text"
      },
      "source": [
        "## Importing the data"
      ]
    },
    {
      "cell_type": "code",
      "metadata": {
        "id": "nkhLmoV8DBma",
        "colab_type": "code",
        "colab": {}
      },
      "source": [
        "train = pd.read_csv(\"https://raw.githubusercontent.com/monicafar147/classification-predict-streamlit-template/master/climate-change-belief-analysis/train.csv\")\n",
        "test = pd.read_csv(\"https://raw.githubusercontent.com/monicafar147/classification-predict-streamlit-template/master/climate-change-belief-analysis/test.csv\")"
      ],
      "execution_count": null,
      "outputs": []
    },
    {
      "cell_type": "code",
      "metadata": {
        "id": "Xks8B7g2Ie3A",
        "colab_type": "code",
        "colab": {
          "base_uri": "https://localhost:8080/",
          "height": 277
        },
        "outputId": "7440bdb2-9d13-4ad4-bb64-122c6d721b97"
      },
      "source": [
        "print(\"Train\\n\")\n",
        "print(train.head(5))\n",
        "print(\"\\nTest\")\n",
        "print(test.head(5))"
      ],
      "execution_count": null,
      "outputs": [
        {
          "output_type": "stream",
          "text": [
            "Train\n",
            "\n",
            "   sentiment                                            message  tweetid\n",
            "0          1  PolySciMajor EPA chief doesn't think carbon di...   625221\n",
            "1          1  It's not like we lack evidence of anthropogeni...   126103\n",
            "2          2  RT @RawStory: Researchers say we have three ye...   698562\n",
            "3          1  #TodayinMaker# WIRED : 2016 was a pivotal year...   573736\n",
            "4          1  RT @SoyNovioDeTodas: It's 2016, and a racist, ...   466954\n",
            "\n",
            "Test\n",
            "                                             message  tweetid\n",
            "0  Europe will now be looking to China to make su...   169760\n",
            "1  Combine this with the polling of staffers re c...    35326\n",
            "2  The scary, unimpeachable evidence that climate...   224985\n",
            "3  @Karoli @morgfair @OsborneInk @dailykos \\nPuti...   476263\n",
            "4  RT @FakeWillMoore: 'Female orgasms cause globa...   872928\n"
          ],
          "name": "stdout"
        }
      ]
    },
    {
      "cell_type": "markdown",
      "metadata": {
        "id": "gHrVCvWHGHQi",
        "colab_type": "text"
      },
      "source": [
        "# EDA"
      ]
    },
    {
      "cell_type": "markdown",
      "metadata": {
        "id": "QPN_hOSvaVrj",
        "colab_type": "text"
      },
      "source": [
        "First we see if there are any repeats or Null values in the dataset\n"
      ]
    },
    {
      "cell_type": "code",
      "metadata": {
        "id": "EMHff0dQZy2G",
        "colab_type": "code",
        "colab": {
          "base_uri": "https://localhost:8080/",
          "height": 196
        },
        "outputId": "326a19c0-a460-4a29-c77a-1496cb76ed8e"
      },
      "source": [
        "# Checking that there is no repeats in the Data\n",
        "\n",
        "unique = [i for i in train['tweetid'].unique()]\n",
        "print(\"Number of unique values\")\n",
        "print(train['tweetid'].nunique())\n",
        "print(\"\\nTotal number of values\")\n",
        "print(len(train['tweetid']))\n",
        "print(\"\\nNumber of null values:\\n\" + str(train.isnull().sum()))"
      ],
      "execution_count": null,
      "outputs": [
        {
          "output_type": "stream",
          "text": [
            "Number of unique values\n",
            "15819\n",
            "\n",
            "Total number of values\n",
            "15819\n",
            "\n",
            "Number of null values:\n",
            "sentiment    0\n",
            "message      0\n",
            "tweetid      0\n",
            "dtype: int64\n"
          ],
          "name": "stdout"
        }
      ]
    },
    {
      "cell_type": "code",
      "metadata": {
        "id": "9yGPO-tUZy_k",
        "colab_type": "code",
        "colab": {
          "base_uri": "https://localhost:8080/",
          "height": 295
        },
        "outputId": "17dea481-0fbc-4b52-fe1b-87dd156e11cb"
      },
      "source": [
        "# We plot a graph to see the sentiment distribution\n",
        "plt.hist(train['sentiment'], bins = 100, edgecolor = 'k')\n",
        "plt.xlabel('type of sentiment')\n",
        "plt.ylabel('count')\n",
        "plt.title('Sentiment distribution')\n",
        "plt.show()"
      ],
      "execution_count": null,
      "outputs": [
        {
          "output_type": "display_data",
          "data": {
            "image/png": "[encoded data removed]",
            "text/plain": [
              "<Figure size 432x288 with 1 Axes>"
            ]
          },
          "metadata": {
            "tags": [],
            "needs_background": "light"
          }
        }
      ]
    },
    {
      "cell_type": "code",
      "metadata": {
        "id": "1hJZtzkAZzC3",
        "colab_type": "code",
        "colab": {
          "base_uri": "https://localhost:8080/",
          "height": 295
        },
        "outputId": "2a4d4d14-35d2-41c5-a6e5-671a26b15bd7"
      },
      "source": [
        "# Explore the word count and tweet lengths\n",
        "train['length'] = train['message'].astype(str).apply(len)\n",
        "train['word_count'] = train['message'].apply(lambda x: len(str(x).split()))\n",
        "test['length'] = test['message'].astype(str).apply(len)\n",
        "test['word_count'] = test['message'].apply(lambda x: len(str(x).split()))\n",
        "\n",
        "# Creating the plot\n",
        "plt.hist([test['length'], train['length']], bins=100, label=['test', 'train'])\n",
        "plt.title('Tweet length distribution per tweet')\n",
        "plt.xlabel('tweet length')\n",
        "plt.ylabel('count')\n",
        "plt.legend(loc='upper left')\n",
        "plt.xlim([0,170])\n",
        "plt.show()"
      ],
      "execution_count": null,
      "outputs": [
        {
          "output_type": "display_data",
          "data": {
            "image/png": "[encoded data removed]",
            "text/plain": [
              "<Figure size 432x288 with 1 Axes>"
            ]
          },
          "metadata": {
            "tags": [],
            "needs_background": "light"
          }
        }
      ]
    },
    {
      "cell_type": "code",
      "metadata": {
        "id": "GWshJKvrZzGa",
        "colab_type": "code",
        "colab": {
          "base_uri": "https://localhost:8080/",
          "height": 295
        },
        "outputId": "b1fa440a-a620-4472-8d0a-0861ba836159"
      },
      "source": [
        "plt.hist([test['word_count'], train['word_count']], bins=100, label=['test', 'train'])\n",
        "plt.title('Word count distribution per tweet')\n",
        "plt.xlabel('tweet word count')\n",
        "plt.ylabel('count')\n",
        "plt.legend(loc='upper left')\n",
        "plt.xlim([0,35])\n",
        "plt.show()"
      ],
      "execution_count": null,
      "outputs": [
        {
          "output_type": "display_data",
          "data": {
            "image/png": "[encoded data removed]",
            "text/plain": [
              "<Figure size 432x288 with 1 Axes>"
            ]
          },
          "metadata": {
            "tags": [],
            "needs_background": "light"
          }
        }
      ]
    },
    {
      "cell_type": "markdown",
      "metadata": {
        "id": "V43CWum8cqBZ",
        "colab_type": "text"
      },
      "source": [
        "# Data preprocessing\n",
        "Combine the train and test data in order to do preprocessing on both datasets. This is essential to test the models being built. This step will also be useful for implementing the API.\n",
        "\n",
        "Before preprocessing we need to ask ourseleves the following questions about this data:\n",
        "1. does URL have impact on tweet sentiment?\n",
        "2. does retweet have any impact on tweet sentiment?\n",
        "3. does removing hashtags remove sentment?\n",
        "4. contractions are a problem - removing doesn't -> does\n",
        "\n",
        "\n"
      ]
    },
    {
      "cell_type": "markdown",
      "metadata": {
        "id": "7Sdi5dHPdNv_",
        "colab_type": "text"
      },
      "source": [
        "Creating a function which will preprocess all of our data.\n"
      ]
    },
    {
      "cell_type": "code",
      "metadata": {
        "id": "PNSJciapcYeN",
        "colab_type": "code",
        "colab": {}
      },
      "source": [
        "def _preprocess(data):\n",
        "  df = data.copy()\n",
        "\n",
        "  # apply lowercase to data\n",
        "  data['message'] = data['message'].apply(lambda word: ''.join(word.lower()))\n",
        "\n",
        "  # function to remove contraction\n",
        "  def remove_contraction(row):\n",
        "    fixed = [contractions.fix(word) for word in row.split()]\n",
        "    return ' '.join(map(str,fixed))\n",
        "\n",
        "  # replace contractions\n",
        "  df['message'] = np.vectorize(remove_contraction)(df['message'])\n",
        "\n",
        "  # function to remove patterns\n",
        "  def remove_pattern(text,pattern,replacement=''):\n",
        "    remove_this = re.findall(pattern, text)\n",
        "    for item in remove_this:\n",
        "      text = re.sub(item, replacement, text)\n",
        "    return text\n",
        "\n",
        "  # remove hashtags\n",
        "  df['message'] = np.vectorize(remove_pattern)(df['message'],\"#[\\w]*\")\n",
        "\n",
        "  # remove username\n",
        "  df['message'] = np.vectorize(remove_pattern)(df['message'],\"@[\\w]*\")\n",
        "\n",
        "  # remove URL\n",
        "  df['message'] = df['message'].apply(lambda word: re.split('https:\\/\\/.*', str(word))[0])\n",
        "\n",
        "  # remove punctuation\n",
        "  df['message'] = df['message'].apply(lambda word: word.translate(str.maketrans('', '', string.punctuation)))\n",
        "\n",
        "  # remove stopwords\n",
        "  stop_words = stopwords.words('english')\n",
        "  data['message'] = data['message'].apply(lambda word: ' '.join(word for word in word.split() if word not in stop_words))\n",
        "\n",
        "  # remove retweet as rt\n",
        "\n",
        "  return df"
      ],
      "execution_count": null,
      "outputs": []
    },
    {
      "cell_type": "code",
      "metadata": {
        "id": "_XkpGRO-cYhY",
        "colab_type": "code",
        "colab": {}
      },
      "source": [
        "trained = train[['sentiment','message','tweetid']]\n",
        "tested = test[['message','tweetid']]"
      ],
      "execution_count": null,
      "outputs": []
    },
    {
      "cell_type": "code",
      "metadata": {
        "id": "cQcxdB4VZzJ9",
        "colab_type": "code",
        "colab": {}
      },
      "source": [
        "# Using the preprocess function we created\n",
        "train_processed = _preprocess(trained)\n",
        "test_processed = _preprocess(tested)"
      ],
      "execution_count": null,
      "outputs": []
    },
    {
      "cell_type": "code",
      "metadata": {
        "id": "L16G6wg5ZzNd",
        "colab_type": "code",
        "colab": {
          "base_uri": "https://localhost:8080/",
          "height": 505
        },
        "outputId": "5614ab2f-1bbf-4d01-bf02-1cc19af0c5a8"
      },
      "source": [
        "# print out cleaned text\n",
        "for_msg = [word for word in train_processed['message']]\n",
        "index = 1\n",
        "for tweet in for_msg[0:10]:\n",
        "    print(str(index)+\": \" + tweet)\n",
        "    print('\\n')\n",
        "    index += 1"
      ],
      "execution_count": null,
      "outputs": [
        {
          "output_type": "stream",
          "text": [
            "1: polyscimajor epa chief does not think carbon dioxide is main because of global warming and wait what \n",
            "\n",
            "\n",
            "2: it is not like we lack evidence of anthropogenic global warming\n",
            "\n",
            "\n",
            "3: rt  researchers say we have three years to act on climate change before it is too late \n",
            "\n",
            "\n",
            "4:  wired  2016 was a pivotal year in the war on climate change \n",
            "\n",
            "\n",
            "5: rt  it is 2016 and a racist sexist climate change denying bigot is leading in the polls \n",
            "\n",
            "\n",
            "6: worth a read whether you do or do not believe in climate change \n",
            "\n",
            "\n",
            "7: rt  mike pence does not believe in global warming or that smoking causes lung cancer \n",
            "\n",
            "\n",
            "8: rt  six big things we can all do today to fight climate change or how to be a climate activistã¢â‚¬â¦ \n",
            "\n",
            "\n",
            "9:  my 8yo nephew is inconsolable he wants to die of old age like me but will perish in the fiery hellscape of climate change\n",
            "\n",
            "\n",
            "10: rt  no offense… but like… how do you just not believe… in global warming………\n",
            "\n",
            "\n"
          ],
          "name": "stdout"
        }
      ]
    },
    {
      "cell_type": "markdown",
      "metadata": {
        "id": "mRVsIiopfEa2",
        "colab_type": "text"
      },
      "source": [
        "We can now see the text is clean, preprocessed and ready to be modeled\n"
      ]
    },
    {
      "cell_type": "markdown",
      "metadata": {
        "id": "axAeRbwNhm8S",
        "colab_type": "text"
      },
      "source": [
        "## Splitting the Dataset"
      ]
    },
    {
      "cell_type": "code",
      "metadata": {
        "id": "e2Cjy1orhnP6",
        "colab_type": "code",
        "colab": {}
      },
      "source": [
        "from sklearn.model_selection import train_test_split\n",
        "# Splitting the labels and features\n",
        "X = train_processed['message']\n",
        "y = train_processed['sentiment']\n",
        "# Splitting the labels and fetures into training and testing sets\n",
        "X_train, X_test, y_train, y_test = train_test_split(X, y, test_size=0.1,random_state=42)\n"
      ],
      "execution_count": null,
      "outputs": []
    },
    {
      "cell_type": "markdown",
      "metadata": {
        "id": "MOLRcn2QgExQ",
        "colab_type": "text"
      },
      "source": [
        "# Data EDA after Pre-processing"
      ]
    },
    {
      "cell_type": "code",
      "metadata": {
        "id": "MNaQur0pZzQV",
        "colab_type": "code",
        "colab": {}
      },
      "source": [
        "# explore the word count and tweet lengths\n",
        "train_processed['length'] = train_processed['message'].astype(str).apply(len)\n",
        "train_processed['word_count'] = train_processed['message'].apply(lambda x: len(str(x).split()))\n",
        "test_processed['length'] = test_processed['message'].astype(str).apply(len)\n",
        "test_processed['word_count'] = test_processed['message'].apply(lambda x: len(str(x).split()))"
      ],
      "execution_count": null,
      "outputs": []
    },
    {
      "cell_type": "code",
      "metadata": {
        "id": "32R4x2EyhNYE",
        "colab_type": "code",
        "colab": {
          "base_uri": "https://localhost:8080/",
          "height": 295
        },
        "outputId": "4bcbc054-bbec-480e-b083-27548f3b4267"
      },
      "source": [
        "\n",
        "plt.hist([train['length'], train_processed['length']], bins=100, label=['before', 'after'])\n",
        "plt.title('Tweet length distribution per tweet')\n",
        "plt.xlabel('tweet length')\n",
        "plt.ylabel('count')\n",
        "plt.legend(loc='upper left')\n",
        "plt.xlim([0,170])\n",
        "plt.show()"
      ],
      "execution_count": null,
      "outputs": [
        {
          "output_type": "display_data",
          "data": {
            "image/png": "[encoded data removed]",
            "text/plain": [
              "<Figure size 432x288 with 1 Axes>"
            ]
          },
          "metadata": {
            "tags": [],
            "needs_background": "light"
          }
        }
      ]
    },
    {
      "cell_type": "code",
      "metadata": {
        "id": "yKfGrXgRHwNk",
        "colab_type": "code",
        "colab": {
          "base_uri": "https://localhost:8080/",
          "height": 295
        },
        "outputId": "9e4b1d99-827e-44e1-c236-b4ec0254d1c3"
      },
      "source": [
        "plt.hist([test['length'], test_processed['length']], bins=100, label=['before', 'after'])\n",
        "plt.title('Tweet length distribution per tweet')\n",
        "plt.xlabel('tweet length')\n",
        "plt.ylabel('count')\n",
        "plt.legend(loc='upper left')\n",
        "plt.xlim([0,170])\n",
        "plt.show()"
      ],
      "execution_count": null,
      "outputs": [
        {
          "output_type": "display_data",
          "data": {
            "image/png": "[encoded data removed]",
            "text/plain": [
              "<Figure size 432x288 with 1 Axes>"
            ]
          },
          "metadata": {
            "tags": [],
            "needs_background": "light"
          }
        }
      ]
    },
    {
      "cell_type": "code",
      "metadata": {
        "id": "7nStVpu6gO4a",
        "colab_type": "code",
        "colab": {}
      },
      "source": [
        ""
      ],
      "execution_count": null,
      "outputs": []
    },
    {
      "cell_type": "code",
      "metadata": {
        "id": "GDoNxq6GhSUp",
        "colab_type": "code",
        "colab": {}
      },
      "source": [
        ""
      ],
      "execution_count": null,
      "outputs": []
    },
    {
      "cell_type": "code",
      "metadata": {
        "id": "-WuZr6YzhSXn",
        "colab_type": "code",
        "colab": {}
      },
      "source": [
        ""
      ],
      "execution_count": null,
      "outputs": []
    },
    {
      "cell_type": "code",
      "metadata": {
        "id": "8QEVDTTAhSaf",
        "colab_type": "code",
        "colab": {}
      },
      "source": [
        ""
      ],
      "execution_count": null,
      "outputs": []
    },
    {
      "cell_type": "code",
      "metadata": {
        "id": "Wxm8pix9hSdX",
        "colab_type": "code",
        "colab": {}
      },
      "source": [
        ""
      ],
      "execution_count": null,
      "outputs": []
    },
    {
      "cell_type": "markdown",
      "metadata": {
        "id": "NUDaZhPkhWby",
        "colab_type": "text"
      },
      "source": [
        "# Modelling\n"
      ]
    },
    {
      "cell_type": "code",
      "metadata": {
        "id": "6V76a88OhX_5",
        "colab_type": "code",
        "colab": {}
      },
      "source": [
        "from sklearn.pipeline import Pipeline\n",
        "from sklearn.feature_extraction.text import TfidfVectorizer\n",
        "from sklearn.svm import LinearSVC"
      ],
      "execution_count": null,
      "outputs": []
    },
    {
      "cell_type": "code",
      "metadata": {
        "id": "y4SxpfBTiqzp",
        "colab_type": "code",
        "colab": {}
      },
      "source": [
        "text_cls = Pipeline([('tfidf',TfidfVectorizer()),('classify',LinearSVC())])\n",
        "text_cls.fit(X_train, y_train)"
      ],
      "execution_count": null,
      "outputs": []
    },
    {
      "cell_type": "markdown",
      "metadata": {
        "id": "vRY7CSmWizQY",
        "colab_type": "text"
      },
      "source": [
        "# Predicting"
      ]
    },
    {
      "cell_type": "code",
      "metadata": {
        "id": "QzxNkm8tisoY",
        "colab_type": "code",
        "colab": {}
      },
      "source": [
        "pred = text_cls.predict(X_test)\n",
        "test_processed"
      ],
      "execution_count": null,
      "outputs": []
    },
    {
      "cell_type": "code",
      "metadata": {
        "id": "ibRn0D-XisrM",
        "colab_type": "code",
        "colab": {}
      },
      "source": [
        "x_unseen = test_processed['message']\n",
        "y_prediction = text_cls.predict(x_unseen)"
      ],
      "execution_count": null,
      "outputs": []
    },
    {
      "cell_type": "code",
      "metadata": {
        "id": "LBlrGWo3isui",
        "colab_type": "code",
        "colab": {}
      },
      "source": [
        "from sklearn.metrics import confusion_matrix,classification_report\n",
        "report_1 = print(classification_report(y_test, pred))\n",
        "report_1"
      ],
      "execution_count": null,
      "outputs": []
    },
    {
      "cell_type": "markdown",
      "metadata": {
        "id": "NaWHD8RijRBC",
        "colab_type": "text"
      },
      "source": [
        "### Saving the prediction to submit"
      ]
    },
    {
      "cell_type": "code",
      "metadata": {
        "id": "xaJuDWsKi8k3",
        "colab_type": "code",
        "colab": {}
      },
      "source": [
        "Final = test_processed['tweetid']\n",
        "\n",
        "Final_Table = {'tweetid': Final, 'sentiment':np.round(y_prediction, 0)}\n",
        "submission = pd.DataFrame(data=Final_Table)\n",
        "submission = submission[['tweetid', 'sentiment']]\n",
        "\n",
        "\n",
        "submission.set_index('tweetid')"
      ],
      "execution_count": null,
      "outputs": []
    },
    {
      "cell_type": "code",
      "metadata": {
        "id": "MU6JPQami8no",
        "colab_type": "code",
        "colab": {}
      },
      "source": [
        "# Only run this code if wanting to save to a CSV file\n",
        "# save to .csv file\n",
        "# submission.to_csv(\"kaggle_mon.csv\",index  = False)"
      ],
      "execution_count": null,
      "outputs": []
    },
    {
      "cell_type": "markdown",
      "metadata": {
        "id": "SKdUA7Jnjwni",
        "colab_type": "text"
      },
      "source": [
        "#Evaluation of 1st attempt\n",
        "As we can see we scored a weighted f1 score of 0.72, this serves our purpose but we can still try more models and see what works best"
      ]
    },
    {
      "cell_type": "markdown",
      "metadata": {
        "id": "Gj-OSdL_kGx_",
        "colab_type": "text"
      },
      "source": [
        "# Attempt 2\n",
        "This time for intreset we will try seeing the score when no pre-processing is done"
      ]
    },
    {
      "cell_type": "markdown",
      "metadata": {
        "id": "ykTGK_cmkzxj",
        "colab_type": "text"
      },
      "source": [
        "## Preprocessing"
      ]
    },
    {
      "cell_type": "code",
      "metadata": {
        "id": "P9rJVPzXlt7U",
        "colab_type": "code",
        "colab": {}
      },
      "source": [
        "final_2 = test.set_index('tweetid')"
      ],
      "execution_count": null,
      "outputs": []
    },
    {
      "cell_type": "code",
      "metadata": {
        "id": "5s_F5qvwi8qt",
        "colab_type": "code",
        "colab": {}
      },
      "source": [
        "# Creating the labels and features\n",
        "X = train['message']\n",
        "y = train['sentiment']\n",
        "\n",
        "# Splitting the data into train and test\n",
        "X_train, X_test, y_train, y_test = train_test_split(X, y, test_size=0.1,random_state=42)"
      ],
      "execution_count": null,
      "outputs": []
    },
    {
      "cell_type": "markdown",
      "metadata": {
        "id": "MYVadZzrk39n",
        "colab_type": "text"
      },
      "source": [
        "# Modeling"
      ]
    },
    {
      "cell_type": "code",
      "metadata": {
        "id": "5jzziCR9k2dW",
        "colab_type": "code",
        "colab": {}
      },
      "source": [
        "# Creating an object same as last time, and training the model\n",
        "text_cls_2 = Pipeline([('tfidf',TfidfVectorizer()),('classify',LinearSVC())])\n",
        "text_cls.fit(X_train, y_train)"
      ],
      "execution_count": null,
      "outputs": []
    },
    {
      "cell_type": "markdown",
      "metadata": {
        "id": "tP3j_UsFlJ9V",
        "colab_type": "text"
      },
      "source": [
        "# Predicting"
      ]
    },
    {
      "cell_type": "code",
      "metadata": {
        "id": "MzqTDCBfkOvX",
        "colab_type": "code",
        "colab": {}
      },
      "source": [
        "pred_2 = text_cls.predict(X_test)\n",
        "x_unseen_2 = final_2['message']\n",
        "y_prediction_2 = text_cls.predict(x_unseen_2)\n",
        "print(classification_report(y_test, pred_2))"
      ],
      "execution_count": null,
      "outputs": []
    },
    {
      "cell_type": "markdown",
      "metadata": {
        "id": "eSmrkz0-mCev",
        "colab_type": "text"
      },
      "source": [
        "# Saving and Submitting"
      ]
    },
    {
      "cell_type": "code",
      "metadata": {
        "id": "gwlv1zSgkOye",
        "colab_type": "code",
        "colab": {}
      },
      "source": [
        "Final_2 = final_2.index \n",
        "Final_Table_2 = {'tweetid': Final_2, 'sentiment':np.round(y_prediction, 0)}\n",
        "submission_2 = pd.DataFrame(data=Final_Table)\n",
        "submission_2 = submission_2[['tweetid', 'sentiment']]"
      ],
      "execution_count": null,
      "outputs": []
    },
    {
      "cell_type": "code",
      "metadata": {
        "id": "2W0B5dzTkO15",
        "colab_type": "code",
        "colab": {}
      },
      "source": [
        "\n",
        "submission_2.set_index('tweetid')"
      ],
      "execution_count": null,
      "outputs": []
    },
    {
      "cell_type": "code",
      "metadata": {
        "id": "TQHRwE3dkO4b",
        "colab_type": "code",
        "colab": {}
      },
      "source": [
        "# Only run if wanting to save in a csv format!\n",
        "# submission.to_csv(\"kaggle.csv\",index  = False) #writing csv file"
      ],
      "execution_count": null,
      "outputs": []
    },
    {
      "cell_type": "markdown",
      "metadata": {
        "id": "m3PiCvZjmr4t",
        "colab_type": "text"
      },
      "source": [
        "# Evalutation of 2nd attempt\n",
        "We can see that this went better with a weighted f1 score of 0.75. We used the same model the only difference being the pre-processing, so for our next attempt we will try to tune the pre-processing to be optimal for the model"
      ]
    },
    {
      "cell_type": "code",
      "metadata": {
        "id": "EKcMoWKonFDx",
        "colab_type": "code",
        "colab": {}
      },
      "source": [
        ""
      ],
      "execution_count": null,
      "outputs": []
    },
    {
      "cell_type": "markdown",
      "metadata": {
        "id": "mmiaX7KlddwN",
        "colab_type": "text"
      },
      "source": [
        "Add test text\n",
        "\n",
        "\n"
      ]
    }
  ]
}