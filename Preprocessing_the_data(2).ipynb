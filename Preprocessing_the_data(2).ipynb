{
  "nbformat": 4,
  "nbformat_minor": 0,
  "metadata": {
    "colab": {
      "name": "Preprocessing the data.ipynb",
      "provenance": []
    },
    "kernelspec": {
      "name": "python3",
      "display_name": "Python 3"
    }
  },
  "cells": [
    {
      "cell_type": "markdown",
      "metadata": {
        "id": "1NloD-jYDuXr",
        "colab_type": "text"
      },
      "source": [
        "This is the model. It was practise and can be improved."
      ]
    },
    {
      "cell_type": "code",
      "metadata": {
        "id": "0PoX1UbAas3d",
        "colab_type": "code",
        "colab": {}
      },
      "source": [
        "import pandas as pd\n",
        "import numpy as np"
      ],
      "execution_count": 0,
      "outputs": []
    },
    {
      "cell_type": "code",
      "metadata": {
        "id": "O-nr031NcqO3",
        "colab_type": "code",
        "outputId": "b6b4ae65-cb2a-49c0-a433-825c011b971b",
        "colab": {
          "base_uri": "https://localhost:8080/",
          "height": 90
        }
      },
      "source": [
        "kaggle = pd.read_csv('train.csv')\n",
        "kaggles = pd.read_csv('test.csv')\n",
        "final = kaggles.set_index('tweetid')\n",
        "kaggle.isnull().sum()"
      ],
      "execution_count": 93,
      "outputs": [
        {
          "output_type": "execute_result",
          "data": {
            "text/plain": [
              "sentiment    0\n",
              "message      0\n",
              "tweetid      0\n",
              "dtype: int64"
            ]
          },
          "metadata": {
            "tags": []
          },
          "execution_count": 93
        }
      ]
    },
    {
      "cell_type": "code",
      "metadata": {
        "id": "BRERTB2U26uW",
        "colab_type": "code",
        "colab": {}
      },
      "source": [
        "from sklearn.model_selection import train_test_split"
      ],
      "execution_count": 0,
      "outputs": []
    },
    {
      "cell_type": "code",
      "metadata": {
        "id": "pYSf_dVi3Lcq",
        "colab_type": "code",
        "colab": {}
      },
      "source": [
        "X = kaggle['message']"
      ],
      "execution_count": 0,
      "outputs": []
    },
    {
      "cell_type": "code",
      "metadata": {
        "id": "GJUg17RN3QpJ",
        "colab_type": "code",
        "colab": {}
      },
      "source": [
        "y = kaggle['sentiment']"
      ],
      "execution_count": 0,
      "outputs": []
    },
    {
      "cell_type": "code",
      "metadata": {
        "id": "iBQZj17u3h-H",
        "colab_type": "code",
        "colab": {}
      },
      "source": [
        "X_train, X_test, y_train, y_test = train_test_split(X, y, test_size=0.1,random_state=42)"
      ],
      "execution_count": 0,
      "outputs": []
    },
    {
      "cell_type": "code",
      "metadata": {
        "id": "av_y8d2n8tjK",
        "colab_type": "code",
        "colab": {}
      },
      "source": [
        "from sklearn.pipeline import Pipeline\n",
        "from sklearn.feature_extraction.text import TfidfVectorizer\n",
        "from sklearn.svm import LinearSVC\n",
        "\n",
        "text_cls = Pipeline([('tfidf',TfidfVectorizer()),('classify',LinearSVC())])"
      ],
      "execution_count": 0,
      "outputs": []
    },
    {
      "cell_type": "code",
      "metadata": {
        "id": "QTLsQ3j8-9O1",
        "colab_type": "code",
        "colab": {
          "base_uri": "https://localhost:8080/",
          "height": 399
        },
        "outputId": "8dd614db-2b69-4cf6-caa0-01200fdccd8b"
      },
      "source": [
        "text_cls.fit(X_train, y_train)"
      ],
      "execution_count": 99,
      "outputs": [
        {
          "output_type": "execute_result",
          "data": {
            "text/plain": [
              "Pipeline(memory=None,\n",
              "         steps=[('tfidf',\n",
              "                 TfidfVectorizer(analyzer='word', binary=False,\n",
              "                                 decode_error='strict',\n",
              "                                 dtype=<class 'numpy.float64'>,\n",
              "                                 encoding='utf-8', input='content',\n",
              "                                 lowercase=True, max_df=1.0, max_features=None,\n",
              "                                 min_df=1, ngram_range=(1, 1), norm='l2',\n",
              "                                 preprocessor=None, smooth_idf=True,\n",
              "                                 stop_words=None, strip_accents=None,\n",
              "                                 sublinear_tf=False,\n",
              "                                 token_pattern='(?u)\\\\b\\\\w\\\\w+\\\\b',\n",
              "                                 tokenizer=None, use_idf=True,\n",
              "                                 vocabulary=None)),\n",
              "                ('classify',\n",
              "                 LinearSVC(C=1.0, class_weight=None, dual=True,\n",
              "                           fit_intercept=True, intercept_scaling=1,\n",
              "                           loss='squared_hinge', max_iter=1000,\n",
              "                           multi_class='ovr', penalty='l2', random_state=None,\n",
              "                           tol=0.0001, verbose=0))],\n",
              "         verbose=False)"
            ]
          },
          "metadata": {
            "tags": []
          },
          "execution_count": 99
        }
      ]
    },
    {
      "cell_type": "code",
      "metadata": {
        "id": "iotpday5_Vg5",
        "colab_type": "code",
        "colab": {}
      },
      "source": [
        "pred = text_cls.predict(X_test)"
      ],
      "execution_count": 0,
      "outputs": []
    },
    {
      "cell_type": "code",
      "metadata": {
        "id": "7pDozMW6KHYa",
        "colab_type": "code",
        "colab": {}
      },
      "source": [
        "x_unseen=final['message']"
      ],
      "execution_count": 0,
      "outputs": []
    },
    {
      "cell_type": "code",
      "metadata": {
        "id": "KNGZlRJYKkAf",
        "colab_type": "code",
        "colab": {}
      },
      "source": [
        "y_prediction = text_cls.predict(x_unseen)"
      ],
      "execution_count": 0,
      "outputs": []
    },
    {
      "cell_type": "code",
      "metadata": {
        "id": "0h3hCeVf_nrp",
        "colab_type": "code",
        "colab": {}
      },
      "source": [
        "from sklearn.metrics import confusion_matrix,classification_report"
      ],
      "execution_count": 0,
      "outputs": []
    },
    {
      "cell_type": "code",
      "metadata": {
        "id": "nqOLd2ac_4Bv",
        "colab_type": "code",
        "colab": {
          "base_uri": "https://localhost:8080/",
          "height": 217
        },
        "outputId": "cfe5d82f-cddb-4c95-8115-697a1970d487"
      },
      "source": [
        "print(classification_report(y_test, pred))"
      ],
      "execution_count": 104,
      "outputs": [
        {
          "output_type": "stream",
          "text": [
            "              precision    recall  f1-score   support\n",
            "\n",
            "          -1       0.67      0.52      0.59       126\n",
            "           0       0.66      0.42      0.51       224\n",
            "           1       0.80      0.87      0.83       895\n",
            "           2       0.76      0.83      0.79       337\n",
            "\n",
            "    accuracy                           0.77      1582\n",
            "   macro avg       0.72      0.66      0.68      1582\n",
            "weighted avg       0.76      0.77      0.76      1582\n",
            "\n"
          ],
          "name": "stdout"
        }
      ]
    },
    {
      "cell_type": "markdown",
      "metadata": {
        "id": "0cB8dtAQEGwH",
        "colab_type": "text"
      },
      "source": [
        "the model's precision, recall and f1-score for sentiment 1 and 2 is high compared to sentiment -1 and 0 so our model does not accurately predict -1 and 0."
      ]
    },
    {
      "cell_type": "code",
      "metadata": {
        "id": "CgdzCBdlEy9T",
        "colab_type": "code",
        "colab": {}
      },
      "source": [
        "Final = final.index"
      ],
      "execution_count": 0,
      "outputs": []
    },
    {
      "cell_type": "code",
      "metadata": {
        "id": "HRTkKkgHFSn6",
        "colab_type": "code",
        "colab": {}
      },
      "source": [
        "Final_Table = {'tweetid': Final, 'sentiment':np.round(y_prediction, 0)}\n",
        "submission = pd.DataFrame(data=Final_Table)\n",
        "submission = submission[['tweetid', 'sentiment']]"
      ],
      "execution_count": 0,
      "outputs": []
    },
    {
      "cell_type": "code",
      "metadata": {
        "id": "248GFbTTIw5R",
        "colab_type": "code",
        "colab": {
          "base_uri": "https://localhost:8080/",
          "height": 455
        },
        "outputId": "30e0968e-5a7b-4220-a669-8a7dda4e4811"
      },
      "source": [
        "submission.set_index('tweetid')"
      ],
      "execution_count": 107,
      "outputs": [
        {
          "output_type": "execute_result",
          "data": {
            "text/html": [
              "<div>\n",
              "<style scoped>\n",
              "    .dataframe tbody tr th:only-of-type {\n",
              "        vertical-align: middle;\n",
              "    }\n",
              "\n",
              "    .dataframe tbody tr th {\n",
              "        vertical-align: top;\n",
              "    }\n",
              "\n",
              "    .dataframe thead th {\n",
              "        text-align: right;\n",
              "    }\n",
              "</style>\n",
              "<table border=\"1\" class=\"dataframe\">\n",
              "  <thead>\n",
              "    <tr style=\"text-align: right;\">\n",
              "      <th></th>\n",
              "      <th>sentiment</th>\n",
              "    </tr>\n",
              "    <tr>\n",
              "      <th>tweetid</th>\n",
              "      <th></th>\n",
              "    </tr>\n",
              "  </thead>\n",
              "  <tbody>\n",
              "    <tr>\n",
              "      <th>169760</th>\n",
              "      <td>1</td>\n",
              "    </tr>\n",
              "    <tr>\n",
              "      <th>35326</th>\n",
              "      <td>1</td>\n",
              "    </tr>\n",
              "    <tr>\n",
              "      <th>224985</th>\n",
              "      <td>1</td>\n",
              "    </tr>\n",
              "    <tr>\n",
              "      <th>476263</th>\n",
              "      <td>1</td>\n",
              "    </tr>\n",
              "    <tr>\n",
              "      <th>872928</th>\n",
              "      <td>0</td>\n",
              "    </tr>\n",
              "    <tr>\n",
              "      <th>...</th>\n",
              "      <td>...</td>\n",
              "    </tr>\n",
              "    <tr>\n",
              "      <th>895714</th>\n",
              "      <td>1</td>\n",
              "    </tr>\n",
              "    <tr>\n",
              "      <th>875167</th>\n",
              "      <td>1</td>\n",
              "    </tr>\n",
              "    <tr>\n",
              "      <th>78329</th>\n",
              "      <td>2</td>\n",
              "    </tr>\n",
              "    <tr>\n",
              "      <th>867455</th>\n",
              "      <td>0</td>\n",
              "    </tr>\n",
              "    <tr>\n",
              "      <th>470892</th>\n",
              "      <td>1</td>\n",
              "    </tr>\n",
              "  </tbody>\n",
              "</table>\n",
              "<p>10546 rows × 1 columns</p>\n",
              "</div>"
            ],
            "text/plain": [
              "         sentiment\n",
              "tweetid           \n",
              "169760           1\n",
              "35326            1\n",
              "224985           1\n",
              "476263           1\n",
              "872928           0\n",
              "...            ...\n",
              "895714           1\n",
              "875167           1\n",
              "78329            2\n",
              "867455           0\n",
              "470892           1\n",
              "\n",
              "[10546 rows x 1 columns]"
            ]
          },
          "metadata": {
            "tags": []
          },
          "execution_count": 107
        }
      ]
    },
    {
      "cell_type": "code",
      "metadata": {
        "id": "YZp7QDnsI1fx",
        "colab_type": "code",
        "colab": {}
      },
      "source": [
        "submission.to_csv(\"kaggle.csv\",index  = False) #writing csv file"
      ],
      "execution_count": 0,
      "outputs": []
    }
  ]
}